{
  "cells": [
    {
      "cell_type": "markdown",
      "metadata": {
        "id": "dYyP4RPupc1A"
      },
      "source": [
        "# Linear Regression Exercise\n",
        "\n",
        "This exercise will guide you in implementing the Linear Regression Model to gain intuitions and develop a deeper understanding of the model. These concepts will form as the foundation for more complex models later on.\n",
        "\n",
        "**You will learn to:**\n",
        "- Build the general architecture of a Linear Regression Model.\n",
        "    - Implement the analytical solution for the parameters that minimizes the loss function\n",
        "    - Implement the approximate/iterative solution for finding the parameters that minimizes the loss function\n",
        "        - Initializing parameters\n",
        "        - Calculating the cost/loss/objective Function\n",
        "        - Computing for the gradients of the loss function with respect to the parameters\n",
        "        - Implement gradient descent to update the paramters\n",
        "    - Implement linear regression using sci-kit learn"
      ]
    },
    {
      "cell_type": "markdown",
      "metadata": {
        "id": "73-DLt0epc1C"
      },
      "source": [
        "## Instructions for All Labs\n",
        "* Read each cell and implement the TODOs sequentially. The markdown/text cells also contain instructions which you need to follow to get the whole notebook working.\n",
        "* Do not change the variable names unless the instructor allows you to.\n",
        "* Some markdown cells contain questions.\n",
        "  * For questions <span style=\"color:red;\">colored in red</span>, you must submit your answers in the corresponding Assignment in the course page. Make sure that you enter your responses in the item with the matching question code. Answers that do not follow the prescribed format will automatically be marked wrong by the checker.\n",
        "  * For questions <span style=\"color:green;\">colored in green</span>, you don't have to submit your answers, but you must think about these questions as they will help enrich your understanding of the concepts covered in the labs.\n",
        "* You are expected to search how to some functions work on the Internet or via the docs.\n",
        "* You may add new cells for \"scrap work\".\n",
        "* The notebooks will undergo a \"Restart and Run All\" command, so make sure that your code is working properly.\n",
        "* You may not reproduce this notebook or share them to anyone."
      ]
    },
    {
      "cell_type": "markdown",
      "metadata": {
        "id": "aca4IDEkpc1C"
      },
      "source": [
        "## Import\n",
        "Import **matplotlib**, **numpy**, **csv**, and **math**."
      ]
    },
    {
      "cell_type": "code",
      "execution_count": 62,
      "metadata": {
        "id": "c2Tg6zPHpc1C",
        "colab": {
          "base_uri": "https://localhost:8080/"
        },
        "outputId": "99d5a186-8217-4fbd-bb4c-f2961e9928ed"
      },
      "outputs": [
        {
          "output_type": "stream",
          "name": "stdout",
          "text": [
            "The autoreload extension is already loaded. To reload it, use:\n",
            "  %reload_ext autoreload\n"
          ]
        }
      ],
      "source": [
        "import matplotlib.pyplot as plt\n",
        "%matplotlib inline\n",
        "import numpy as np\n",
        "import csv\n",
        "import math\n",
        "\n",
        "# set default size of plots\n",
        "plt.rcParams['figure.figsize'] = (6.0, 6.0)\n",
        "plt.rcParams['image.interpolation'] = 'nearest'\n",
        "\n",
        "%load_ext autoreload\n",
        "%autoreload 2"
      ]
    },
    {
      "cell_type": "markdown",
      "metadata": {
        "id": "vqXZAik9pc1D"
      },
      "source": [
        "## Synthetic Datasets\n",
        "Before we use a more complicated dataset, we will first demonstrate linear regression using a synthetic (artificial) data drawn from a normal distribution. The synthetic dataset is composed of an input feature `X` and a target variable `y` for easy visualization in a plot. The dataset contains 20 data points."
      ]
    },
    {
      "cell_type": "code",
      "execution_count": 63,
      "metadata": {
        "colab": {
          "base_uri": "https://localhost:8080/"
        },
        "id": "dmaW-KYLpc1D",
        "outputId": "204473d7-2e4e-48ee-b04c-73a1b06c9dc4"
      },
      "outputs": [
        {
          "output_type": "execute_result",
          "data": {
            "text/plain": [
              "array([[  0., 100.],\n",
              "       [  1., 101.],\n",
              "       [  2., 102.],\n",
              "       [  3., 103.],\n",
              "       [  4., 104.],\n",
              "       [  5., 105.],\n",
              "       [  6., 106.],\n",
              "       [  7., 107.],\n",
              "       [  8., 108.],\n",
              "       [  9., 109.],\n",
              "       [ 10., 110.],\n",
              "       [ 11., 111.],\n",
              "       [ 12., 112.],\n",
              "       [ 13., 113.],\n",
              "       [ 14., 114.],\n",
              "       [ 15., 115.],\n",
              "       [ 16., 116.],\n",
              "       [ 17., 117.],\n",
              "       [ 18., 118.],\n",
              "       [ 19., 119.]])"
            ]
          },
          "metadata": {},
          "execution_count": 63
        }
      ],
      "source": [
        "np.random.seed(1)\n",
        "\n",
        "X = np.arange(start=0, stop=20, step=1)\n",
        "delta = np.random.normal(loc=100, scale=0, size=20)\n",
        "y = X + delta\n",
        "\n",
        "data = np.column_stack([X, y])\n",
        "data"
      ]
    },
    {
      "cell_type": "markdown",
      "metadata": {
        "id": "BFk2Xl7upc1D"
      },
      "source": [
        "Let's visualize the synthetic dataset in a 2D graph."
      ]
    },
    {
      "cell_type": "code",
      "execution_count": 64,
      "metadata": {
        "colab": {
          "base_uri": "https://localhost:8080/",
          "height": 522
        },
        "id": "IAjJfcy2pc1D",
        "outputId": "1a39ba94-6e8b-4aae-f9ce-6e444a891221"
      },
      "outputs": [
        {
          "output_type": "display_data",
          "data": {
            "text/plain": [
              "<Figure size 600x600 with 1 Axes>"
            ],
            "image/png": "[encoded data removed]"
          },
          "metadata": {}
        }
      ],
      "source": [
        "fig, ax = plt.subplots()\n",
        "ax.plot(X, y, 'ro', label='Original data')\n",
        "ax.legend()\n",
        "plt.grid()\n",
        "plt.show()"
      ]
    },
    {
      "cell_type": "markdown",
      "metadata": {
        "id": "vYyUwki1pc1D"
      },
      "source": [
        "<span style=\"color:red;\">**Question 2-1**: Describe the plot of the generated data. How is `X` related to `y`?</span>"
      ]
    },
    {
      "cell_type": "markdown",
      "source": [
        "they are directly proportional / linearly related"
      ],
      "metadata": {
        "id": "Vvd5yF6pqMXD"
      }
    },
    {
      "cell_type": "markdown",
      "metadata": {
        "id": "SCxAcMZbpc1D"
      },
      "source": [
        "## Linear Regression on Synthetic Dataset 1 using Analytical Solution\n",
        "Open `linear_regression.py` file. Some of the functions in the `AnalyticalMethod` class are not yet implemented. We will implement the missing parts of this class."
      ]
    },
    {
      "cell_type": "markdown",
      "metadata": {
        "id": "IMxZGXsapc1D"
      },
      "source": [
        "Import the `AnalyticalMethod` class and the `compute_RMSE()` function."
      ]
    },
    {
      "cell_type": "code",
      "execution_count": 78,
      "metadata": {
        "id": "Hli4zNtbpc1E"
      },
      "outputs": [],
      "source": [
        "from linear_regression import AnalyticalMethod, compute_RMSE"
      ]
    },
    {
      "cell_type": "markdown",
      "metadata": {
        "id": "237XYMq7pc1E"
      },
      "source": [
        "Instantiate an `AnalyticalMethod` object. Assign the object to variable `analytical_method`."
      ]
    },
    {
      "cell_type": "code",
      "execution_count": 79,
      "metadata": {
        "id": "oGZ-mScCpc1E"
      },
      "outputs": [],
      "source": [
        "# Write your code here\n",
        "analytical_method = AnalyticalMethod()"
      ]
    },
    {
      "cell_type": "markdown",
      "metadata": {
        "id": "z6VPWUXkpc1E"
      },
      "source": [
        "### Analytical Solution / Closed Form / Normal Equation\n",
        "\n",
        "We can quickly compute for the weights by getting the derivative of our objective function and equating it to 0. However, there are some drawbacks to this method, as you would see in the following cells.\n",
        "\n",
        "The next cells show the step-by-step process of implementing the closed form solution of linear regression:\n",
        "1. Adding the bias in the weight vector `W`.\n",
        "1. Finding for the optimal values of weight vector `W` by using the closed form solution.\n",
        "3. Do some predictions! Now that we have the weights, the label can be solved by plugging in the features `X` into the linear model."
      ]
    },
    {
      "cell_type": "markdown",
      "metadata": {
        "id": "xK9QUOOupc1E"
      },
      "source": [
        "### Step 1. Pre-processing.  Add in a vector of one to X to account for the bias.\n",
        "\n",
        "Open `linear_regression.py` file and complete the `feature_transform()` function in the `AnalyticalMethod` class. This function appends a vector of ones to `X` to account for the bias term."
      ]
    },
    {
      "cell_type": "markdown",
      "metadata": {
        "id": "WfxyVOlwpc1E"
      },
      "source": [
        "Implement the `feature_transform()` function  in the `AnalyticalMethod` class. Inline comments should help you in completing the contents of the function."
      ]
    },
    {
      "cell_type": "markdown",
      "metadata": {
        "id": "ciNcgdY7pc1E"
      },
      "source": [
        "Transform `X` by calling the function `feature_transform()` and assign the return value to variable `transformed_X`."
      ]
    },
    {
      "cell_type": "code",
      "execution_count": 108,
      "metadata": {
        "id": "d92HVbh0pc1E"
      },
      "outputs": [],
      "source": [
        "# Write your code here\n",
        "transformed_X = analytical_method.feature_transform(X)"
      ]
    },
    {
      "cell_type": "code",
      "execution_count": 109,
      "metadata": {
        "id": "jv8iRE6Jpc1E",
        "colab": {
          "base_uri": "https://localhost:8080/"
        },
        "outputId": "4c8f96f1-7b7d-48c1-a5e1-363c9143442d"
      },
      "outputs": [
        {
          "output_type": "stream",
          "name": "stdout",
          "text": [
            "(20, 2)\n"
          ]
        }
      ],
      "source": [
        "print(transformed_X.shape)"
      ]
    },
    {
      "cell_type": "markdown",
      "metadata": {
        "id": "Of8jVMoLpc1E"
      },
      "source": [
        "__Sanity check:__\n",
        "\n",
        "Your result should have a shape of (20, 2)"
      ]
    },
    {
      "cell_type": "markdown",
      "metadata": {
        "id": "nD8Vu7eYpc1E"
      },
      "source": [
        "### Step 2. Train. Compute for the weights via the analytical solution.\n",
        "\n",
        "Open `linear_regression.py` file and complete the `compute_weights()` function in the `AnalyticalMethod` class. This function computes the weights based on the analytical solution without regularization.\n",
        "\n",
        "$$W=(X^TX)^{-1}X^Ty$$\n",
        "\n",
        "This function has 2 parameters - `X` and `y`, where `X` is an `np.ndarray` of shape (N, D) containing the training data and `y` is an `np.ndarray` of shape (N, 1) containing the ground truth values."
      ]
    },
    {
      "cell_type": "markdown",
      "metadata": {
        "id": "8Crd96qlpc1E"
      },
      "source": [
        "Implement the `compute_weights()` function in the `AnalyticalMethod` class. Inline comments should help you in completing the contents of the function."
      ]
    },
    {
      "cell_type": "markdown",
      "metadata": {
        "id": "9Jnc3rtgpc1F"
      },
      "source": [
        "Compute the weights by calling the function `compute_weights()` and assign the return value to variable `W`."
      ]
    },
    {
      "cell_type": "code",
      "execution_count": 110,
      "metadata": {
        "id": "m3CJ_CCEpc1F"
      },
      "outputs": [],
      "source": [
        "# Write your code here\n",
        "W = analytical_method.compute_weights(transformed_X, y)"
      ]
    },
    {
      "cell_type": "code",
      "execution_count": 111,
      "metadata": {
        "id": "I1fMzudVpc1F",
        "colab": {
          "base_uri": "https://localhost:8080/"
        },
        "outputId": "e327c9f2-9038-4775-85dd-2d88923c492b"
      },
      "outputs": [
        {
          "output_type": "stream",
          "name": "stdout",
          "text": [
            "[ 1. 50. 50.]\n"
          ]
        }
      ],
      "source": [
        "print(W)"
      ]
    },
    {
      "cell_type": "markdown",
      "metadata": {
        "id": "xHp_wK6wpc1F"
      },
      "source": [
        "### Step 3: Test. Predict test data with the computed weights\n",
        "\n",
        "Open `linear_regression.py` file and complete the `predict()` function in the `AnalyticalMethod` class. This function predicts values for the test data."
      ]
    },
    {
      "cell_type": "markdown",
      "metadata": {
        "id": "Y3vw4O8Hpc1F"
      },
      "source": [
        "Implement the `predict()` function in the `AnalyticalMethod` class. Inline comments should help you in completing the contents of the function."
      ]
    },
    {
      "cell_type": "markdown",
      "metadata": {
        "id": "N8jpK4Pkpc1F"
      },
      "source": [
        "Get the predicted `y` values given the synthetic data and assign the return value to variable `y_predicted`."
      ]
    },
    {
      "cell_type": "code",
      "execution_count": 112,
      "metadata": {
        "id": "LiTjExXkpc1F"
      },
      "outputs": [],
      "source": [
        "# Write your code here\n",
        "y_predicted = analytical_method.predict(transformed_X)"
      ]
    },
    {
      "cell_type": "markdown",
      "metadata": {
        "id": "azwfAuhCpc1F"
      },
      "source": [
        "Let's plot synthetic dataset 1 and the regression line."
      ]
    },
    {
      "cell_type": "code",
      "execution_count": 113,
      "metadata": {
        "id": "QlGQLMz-pc1F",
        "colab": {
          "base_uri": "https://localhost:8080/",
          "height": 522
        },
        "outputId": "c5d0aa6d-7bda-4fab-91af-24570e58fa04"
      },
      "outputs": [
        {
          "output_type": "display_data",
          "data": {
            "text/plain": [
              "<Figure size 600x600 with 1 Axes>"
            ],
            "image/png": "[encoded data removed]"
          },
          "metadata": {}
        }
      ],
      "source": [
        "fig, ax = plt.subplots()\n",
        "ax.plot(X, y, 'ro', label='Original data')\n",
        "\n",
        "ax.plot(X, y_predicted, label='Regression line')\n",
        "\n",
        "ax.legend()\n",
        "plt.grid()\n",
        "plt.show()"
      ]
    },
    {
      "cell_type": "markdown",
      "metadata": {
        "id": "BkC_gHt3pc1F"
      },
      "source": [
        "<span style=\"color:red;\">**Question 2-2**: Describe the regression line with respect to the original data.</span>\n"
      ]
    },
    {
      "cell_type": "markdown",
      "source": [
        "It passes through all the datapoints"
      ],
      "metadata": {
        "id": "vFU3PM-xnz3c"
      }
    },
    {
      "cell_type": "markdown",
      "metadata": {
        "id": "o_k-l4zmpc1F"
      },
      "source": [
        "Compute the predicted `y` value when X is 25 by calling the function `predict()` and assign the return value to variable `y_pred_analytical`."
      ]
    },
    {
      "cell_type": "code",
      "execution_count": 115,
      "metadata": {
        "id": "7yfBhE2_pc1F"
      },
      "outputs": [],
      "source": [
        "# Write your code here\n",
        "new_x = analytical_method.feature_transform(np.array([25]))\n",
        "y_pred_analytical = analytical_method.predict(new_x)"
      ]
    },
    {
      "cell_type": "code",
      "execution_count": 116,
      "metadata": {
        "id": "6tTBKqXkpc1G",
        "colab": {
          "base_uri": "https://localhost:8080/"
        },
        "outputId": "e7a8bbe7-c30b-45b8-f354-2fa3436c2f7d"
      },
      "outputs": [
        {
          "output_type": "stream",
          "name": "stdout",
          "text": [
            "[125.]\n"
          ]
        }
      ],
      "source": [
        "print(np.around(y_pred_analytical.flatten(), 2))"
      ]
    },
    {
      "cell_type": "markdown",
      "metadata": {
        "id": "gX-jzhOhpc1G"
      },
      "source": [
        "<span style=\"color:red;\">**Question 2-3**: What is the predicted `y` value when `X` is 25? Limit to 2 decimal places.</span>"
      ]
    },
    {
      "cell_type": "markdown",
      "source": [
        "125"
      ],
      "metadata": {
        "id": "bDmzzSCfoS30"
      }
    },
    {
      "cell_type": "markdown",
      "metadata": {
        "id": "qpjTKkBMpc1G"
      },
      "source": [
        "Let's compare the ground truth `y` values with the predicted `y` values."
      ]
    },
    {
      "cell_type": "code",
      "execution_count": 117,
      "metadata": {
        "id": "k5M17NwWpc1G",
        "colab": {
          "base_uri": "https://localhost:8080/"
        },
        "outputId": "749baa01-c1d5-4bd7-c716-301c6a646a9f"
      },
      "outputs": [
        {
          "output_type": "stream",
          "name": "stdout",
          "text": [
            "\n",
            "Ground truth y values\n",
            " [100. 101. 102. 103. 104. 105. 106. 107. 108. 109. 110. 111. 112. 113.\n",
            " 114. 115. 116. 117. 118. 119.]\n",
            "Predicted y values\n",
            " [100. 101. 102. 103. 104. 105. 106. 107. 108. 109. 110. 111. 112. 113.\n",
            " 114. 115. 116. 117. 118. 119.]\n"
          ]
        }
      ],
      "source": [
        "print('\\nGround truth y values\\n', y)\n",
        "print('Predicted y values\\n', y_predicted)"
      ]
    },
    {
      "cell_type": "markdown",
      "metadata": {
        "id": "KvjlULb-pc1K"
      },
      "source": [
        "<span style=\"color:red;\">**Question 2-4**: Describe the ground truth `y` values and the predicted `y` values. What can you say about the difference in their values?</span>"
      ]
    },
    {
      "cell_type": "markdown",
      "source": [
        "there doesn't seem to be a difference"
      ],
      "metadata": {
        "id": "7ZmDtdV5odlw"
      }
    },
    {
      "cell_type": "markdown",
      "metadata": {
        "id": "yLLJ8u1dpc1K"
      },
      "source": [
        "### Evaluate using Root Mean Squared Error (RMSE)\n",
        "\n",
        "Is there a objective way of saying if the model is doing well or not?\n",
        "\n",
        "This is called regression metrics, and we're going to try out one now called **root mean squared error** or **RMSE**.\n",
        "\n",
        "$$\n",
        "\\operatorname{RMSE}(\\hat{y}) = \\sqrt{\\operatorname{MSE}(\\hat{y})} = \\sqrt{\\operatorname{M}((\\hat{y}-y)^2)}\n",
        "$$\n",
        "\n",
        "$\\hat{y}$ stands for predicted labels, while $y$ stands for the ground truth label\n",
        "\n",
        "Computing it can be summarized in 4 simple steps:\n",
        "1. Have a test data ready with known labels. Ideally, these data have never been used in training, but we're going to suspend that rule first and try it with our dataset.\n",
        "2. Get the prediction for every test data, and **subtract** this estimate with the ground truth, and **square** the difference.\n",
        "3. Get the **average** of all the squared differences (#2) of every test data.\n",
        "4. Get the **square root** of the value from #3.\n",
        "\n",
        "Open `linear_regression.py` file and complete the `compute_RMSE()` function. This function computes the Root Mean Squared Error (RMSE) given the ground truth values and the predicted values."
      ]
    },
    {
      "cell_type": "markdown",
      "metadata": {
        "id": "XKQqIuQcpc1K"
      },
      "source": [
        "Implement the `compute_RMSE()` function. Inline comments should help you in completing the contents of the function."
      ]
    },
    {
      "cell_type": "markdown",
      "metadata": {
        "id": "_FfBWLwDpc1K"
      },
      "source": [
        "To check our implementation, let's compute the RMSE of the two `np.ndarray` with the same values. This should yield an RMSE of 0.0."
      ]
    },
    {
      "cell_type": "code",
      "execution_count": 118,
      "metadata": {
        "id": "Rg3t5Wk0pc1K",
        "colab": {
          "base_uri": "https://localhost:8080/"
        },
        "outputId": "28b9419a-ad54-4d89-813a-76676f4f1795"
      },
      "outputs": [
        {
          "output_type": "stream",
          "name": "stdout",
          "text": [
            "0.00\n"
          ]
        }
      ],
      "source": [
        "y_sample_true = np.arange(start=0, stop=20, step=1)\n",
        "y_sample_pred = np.arange(start=0, stop=20, step=1)\n",
        "\n",
        "rmse = compute_RMSE(y_sample_true, y_sample_pred)\n",
        "print('{:.2f}'.format(rmse))"
      ]
    },
    {
      "cell_type": "markdown",
      "metadata": {
        "id": "851E-4OGpc1K"
      },
      "source": [
        "Compute the RMSE of our model by calling the function `compute_RMSE()` and assign the return value to variable `rmse`."
      ]
    },
    {
      "cell_type": "code",
      "execution_count": 119,
      "metadata": {
        "id": "UNARrdN_pc1K"
      },
      "outputs": [],
      "source": [
        "# Write your code here\n",
        "rmse = compute_RMSE(y, y_predicted)"
      ]
    },
    {
      "cell_type": "code",
      "execution_count": 120,
      "metadata": {
        "id": "COXCS0oWpc1K",
        "colab": {
          "base_uri": "https://localhost:8080/"
        },
        "outputId": "9deadf43-3ef1-4455-cdb1-2d59244c8ad2"
      },
      "outputs": [
        {
          "output_type": "stream",
          "name": "stdout",
          "text": [
            "0.00\n"
          ]
        }
      ],
      "source": [
        "print('{:.2f}'.format(rmse))"
      ]
    },
    {
      "cell_type": "markdown",
      "metadata": {
        "id": "3ovAa_Jypc1K"
      },
      "source": [
        "<span style=\"color:red;\">**Question 2-5:** Can we say that our model fits the input data well?</span>"
      ]
    },
    {
      "cell_type": "markdown",
      "source": [
        "Yes as rmse results in 0.00"
      ],
      "metadata": {
        "id": "6JiHyqidprUM"
      }
    },
    {
      "cell_type": "markdown",
      "metadata": {
        "id": "ri0qrZyepc1L"
      },
      "source": [
        "## Linear Regression on Synthetic Dataset 2 using Analytical Solution\n",
        "\n",
        "Let's create another synthetic dataset drawn from a normal distribution. The synthetic dataset is still composed of an input feature `x` and a target variable `y` for easy visualization in a plot. The dataset contains 40 data points."
      ]
    },
    {
      "cell_type": "code",
      "execution_count": 121,
      "metadata": {
        "id": "3kfpm8ubpc1L",
        "colab": {
          "base_uri": "https://localhost:8080/"
        },
        "outputId": "6708e1ca-c8ab-477e-84c4-4f420a20e7b4"
      },
      "outputs": [
        {
          "output_type": "execute_result",
          "data": {
            "text/plain": [
              "array([[  0.        ,  98.74972646],\n",
              "       [  0.5       , 100.33119952],\n",
              "       [  1.        ,  94.59141171],\n",
              "       [  1.5       , 106.42081243],\n",
              "       [  2.        ,  96.61969324],\n",
              "       [  2.5       ,  99.9747579 ],\n",
              "       [  3.        , 104.50864425],\n",
              "       [  3.5       ,  99.76413574],\n",
              "       [  4.        , 100.82614334],\n",
              "       [  4.5       , 101.77297716],\n",
              "       [  5.        , 106.65436213],\n",
              "       [  5.5       , 112.37662404],\n",
              "       [  6.        , 106.12461818],\n",
              "       [  6.5       , 103.14622366],\n",
              "       [  7.        , 108.61717496],\n",
              "       [  7.5       , 105.7115209 ],\n",
              "       [  8.        , 107.94260851],\n",
              "       [  8.5       , 112.02500366],\n",
              "       [  9.        , 106.75638715],\n",
              "       [  9.5       , 109.52707575],\n",
              "       [ 10.        , 107.36567632],\n",
              "       [ 10.5       , 110.03069749],\n",
              "       [ 11.        , 111.76971136],\n",
              "       [ 11.5       , 108.53366285],\n",
              "       [ 12.        , 110.9835341 ],\n",
              "       [ 12.5       , 111.79144791],\n",
              "       [ 13.        , 111.08703496],\n",
              "       [ 13.5       , 109.93716314],\n",
              "       [ 14.        , 109.73634832],\n",
              "       [ 14.5       , 114.03951441],\n",
              "       [ 15.        , 114.19282912],\n",
              "       [ 15.5       , 122.19410037],\n",
              "       [ 16.        , 108.69569727],\n",
              "       [ 16.5       , 116.83817951],\n",
              "       [ 17.        , 118.11133361],\n",
              "       [ 17.5       , 121.57890159],\n",
              "       [ 18.        , 119.50557162],\n",
              "       [ 18.5       , 115.96735889],\n",
              "       [ 19.        , 119.00002928],\n",
              "       [ 19.5       , 121.12705772]])"
            ]
          },
          "metadata": {},
          "execution_count": 121
        }
      ],
      "source": [
        "np.random.seed(2)\n",
        "\n",
        "X2 = np.arange(start=0, stop=20, step=0.5)\n",
        "delta = np.random.normal(loc=100, scale=3, size=40)\n",
        "y2 = X2 + delta\n",
        "\n",
        "data = np.column_stack([X2, y2])\n",
        "data"
      ]
    },
    {
      "cell_type": "markdown",
      "metadata": {
        "id": "hstwhehJpc1L"
      },
      "source": [
        "Let's visualize the synthetic dataset in a 2D graph."
      ]
    },
    {
      "cell_type": "code",
      "execution_count": 122,
      "metadata": {
        "id": "1Mafz27Opc1L",
        "colab": {
          "base_uri": "https://localhost:8080/",
          "height": 522
        },
        "outputId": "d78d69e2-7aa7-4aa3-962a-275ddc72e53b"
      },
      "outputs": [
        {
          "output_type": "display_data",
          "data": {
            "text/plain": [
              "<Figure size 600x600 with 1 Axes>"
            ],
            "image/png": "[encoded data removed]"
          },
          "metadata": {}
        }
      ],
      "source": [
        "fig, ax = plt.subplots()\n",
        "ax.plot(X2, y2, 'ro', label='Original data')\n",
        "ax.legend()\n",
        "plt.grid()\n",
        "plt.show()"
      ]
    },
    {
      "cell_type": "markdown",
      "metadata": {
        "id": "vnhtvSFipc1L"
      },
      "source": [
        "### Train and Test\n",
        "\n",
        "Get the predicted `y` values given the new synthetic data and assign the return value to variable `y_predicted`."
      ]
    },
    {
      "cell_type": "code",
      "execution_count": 123,
      "metadata": {
        "id": "UqDfIW0Gpc1L"
      },
      "outputs": [],
      "source": [
        "# Write your code here\n",
        "y_predicted = analytical_method.predict(analytical_method.feature_transform((X2)))"
      ]
    },
    {
      "cell_type": "markdown",
      "metadata": {
        "id": "h5cbNLOupc1L"
      },
      "source": [
        "Display the result in a 2D graph."
      ]
    },
    {
      "cell_type": "code",
      "execution_count": 124,
      "metadata": {
        "scrolled": false,
        "id": "bjDRxXfvpc1L",
        "colab": {
          "base_uri": "https://localhost:8080/",
          "height": 522
        },
        "outputId": "3b22a325-9587-4b16-f808-406a8e2167d0"
      },
      "outputs": [
        {
          "output_type": "display_data",
          "data": {
            "text/plain": [
              "<Figure size 600x600 with 1 Axes>"
            ],
            "image/png": "[encoded data removed]"
          },
          "metadata": {}
        }
      ],
      "source": [
        "fig, ax = plt.subplots()\n",
        "ax.plot(X2, y2, 'ro', label='Original data')\n",
        "\n",
        "ax.plot(X2, y_predicted, label='Regression line')\n",
        "\n",
        "ax.legend()\n",
        "plt.grid()\n",
        "plt.show()"
      ]
    },
    {
      "cell_type": "markdown",
      "metadata": {
        "id": "p47HuLZTpc1L"
      },
      "source": [
        "<span style=\"color:green;\">**Question**: Describe the regression line with respect to the original data. Is it in the middle of the data points? Is it away from the data points?</span>"
      ]
    },
    {
      "cell_type": "markdown",
      "source": [
        "It seems to be in the middle"
      ],
      "metadata": {
        "id": "x0zqGEAjqUoS"
      }
    },
    {
      "cell_type": "markdown",
      "metadata": {
        "id": "buB84AA8pc1L"
      },
      "source": [
        "Let's compare the ground truth `y` values with the predicted `y` values."
      ]
    },
    {
      "cell_type": "code",
      "execution_count": 125,
      "metadata": {
        "id": "BZnrF76ypc1M",
        "colab": {
          "base_uri": "https://localhost:8080/"
        },
        "outputId": "42d49bd0-aa78-4aab-f678-ba3647f6ee86"
      },
      "outputs": [
        {
          "output_type": "stream",
          "name": "stdout",
          "text": [
            "\n",
            "Ground truth y values\n",
            " [ 98.74972646 100.33119952  94.59141171 106.42081243  96.61969324\n",
            "  99.9747579  104.50864425  99.76413574 100.82614334 101.77297716\n",
            " 106.65436213 112.37662404 106.12461818 103.14622366 108.61717496\n",
            " 105.7115209  107.94260851 112.02500366 106.75638715 109.52707575\n",
            " 107.36567632 110.03069749 111.76971136 108.53366285 110.9835341\n",
            " 111.79144791 111.08703496 109.93716314 109.73634832 114.03951441\n",
            " 114.19282912 122.19410037 108.69569727 116.83817951 118.11133361\n",
            " 121.57890159 119.50557162 115.96735889 119.00002928 121.12705772]\n",
            "Predicted y values\n",
            " [100.  100.5 101.  101.5 102.  102.5 103.  103.5 104.  104.5 105.  105.5\n",
            " 106.  106.5 107.  107.5 108.  108.5 109.  109.5 110.  110.5 111.  111.5\n",
            " 112.  112.5 113.  113.5 114.  114.5 115.  115.5 116.  116.5 117.  117.5\n",
            " 118.  118.5 119.  119.5]\n",
            "Diff \n",
            " [-1.25027354e+00 -1.68800482e-01 -6.40858829e+00  4.92081243e+00\n",
            " -5.38030676e+00 -2.52524210e+00  1.50864425e+00 -3.73586426e+00\n",
            " -3.17385666e+00 -2.72702284e+00  1.65436213e+00  6.87662404e+00\n",
            "  1.24618179e-01 -3.35377634e+00  1.61717496e+00 -1.78847910e+00\n",
            " -5.73914896e-02  3.52500366e+00 -2.24361285e+00  2.70757529e-02\n",
            " -2.63432368e+00 -4.69302511e-01  7.69711356e-01 -2.96633715e+00\n",
            " -1.01646590e+00 -7.08552093e-01 -1.91296504e+00 -3.56283686e+00\n",
            " -4.26365168e+00 -4.60485587e-01 -8.07170881e-01  6.69410037e+00\n",
            " -7.30430273e+00  3.38179514e-01  1.11133361e+00  4.07890159e+00\n",
            "  1.50557162e+00 -2.53264111e+00  2.92844148e-05  1.62705772e+00]\n"
          ]
        }
      ],
      "source": [
        "print('\\nGround truth y values\\n', y2)\n",
        "print('Predicted y values\\n', y_predicted)\n",
        "print('Diff \\n', (y2 - y_predicted))"
      ]
    },
    {
      "cell_type": "markdown",
      "metadata": {
        "id": "6Ytqgg5ppc1M"
      },
      "source": [
        "<span style=\"color:red;\">**Question 1-6**: Describe the ground truth `y` values and the predicted `y` values. What can you say about the difference in their values?</span>"
      ]
    },
    {
      "cell_type": "markdown",
      "source": [
        "They don't match at all and have a lot of differences, the largest difference 8.071"
      ],
      "metadata": {
        "id": "LB3ZnzQUqoWB"
      }
    },
    {
      "cell_type": "markdown",
      "metadata": {
        "id": "xI4dxqGTpc1M"
      },
      "source": [
        "### Evaluate using Root Mean Squared Error (RMSE)\n",
        "\n",
        "Compute the RMSE of our model and assign the return value to variable `rmse`."
      ]
    },
    {
      "cell_type": "code",
      "execution_count": 126,
      "metadata": {
        "id": "e-foGeqjpc1M"
      },
      "outputs": [],
      "source": [
        "# Write your code here\n",
        "rmse = compute_RMSE(y2, y_predicted)"
      ]
    },
    {
      "cell_type": "code",
      "execution_count": 127,
      "metadata": {
        "id": "GCdtF5bOpc1M",
        "colab": {
          "base_uri": "https://localhost:8080/"
        },
        "outputId": "d802afd8-5d31-490d-fb4a-4bc0a207d780"
      },
      "outputs": [
        {
          "output_type": "stream",
          "name": "stdout",
          "text": [
            "3.17\n"
          ]
        }
      ],
      "source": [
        "print('{:.2f}'.format(rmse))"
      ]
    },
    {
      "cell_type": "markdown",
      "metadata": {
        "id": "Epy1ZHwypc1M"
      },
      "source": [
        "<span style=\"color:red;\">**Question 1-7**: Can we say that our model fits the input data well?</span>"
      ]
    },
    {
      "cell_type": "markdown",
      "source": [
        "While not like the previous model with 0.00 we can't say this fully fits the input data but is still acceptable"
      ],
      "metadata": {
        "id": "Im9U3g6-r4kL"
      }
    },
    {
      "cell_type": "markdown",
      "metadata": {
        "id": "ovD8bigdpc1M"
      },
      "source": [
        "## Kansas City Dataset\n",
        "We will use the sales prices of houses in Kansas City as our dataset. We will only get one feature / dimension / variable, i.e., living area, to be able to visualize the dataset in a 2D plane."
      ]
    },
    {
      "cell_type": "markdown",
      "metadata": {
        "id": "6QogT91opc1M"
      },
      "source": [
        "### Data Preprocessing\n",
        "Let's load the data into the notebook. This data has already been processed, which means that the data is already ready to go for training.\n",
        "\n",
        "But in reality, you will need to perform some pre-processing and feature extractions after collecting data. For starters, you have to make sure that there are no erroneous answers (e.g., instead of a number under the column living area, 'big' was entered) or empty fields. You may also want to get the sum, average, or standard deviation of some data.\n",
        "\n",
        "Again, our data here is already clean so we don't have to worry about that :)"
      ]
    },
    {
      "cell_type": "code",
      "execution_count": 140,
      "metadata": {
        "scrolled": true,
        "id": "mIC6utXYpc1M",
        "colab": {
          "base_uri": "https://localhost:8080/"
        },
        "outputId": "8b514ebe-481b-4100-8df6-c9608a475a7d"
      },
      "outputs": [
        {
          "output_type": "stream",
          "name": "stdout",
          "text": [
            "Training data shape: (128, 1)\n",
            "Ground truth values shape: (128,)\n"
          ]
        }
      ],
      "source": [
        "with open('house.csv', 'r') as csv_file:\n",
        "    raw_data = csv.reader(csv_file)\n",
        "    next(csv_file)\n",
        "    X_kansas = np.empty((0, 1), int)\n",
        "    y_kansas = np.empty((0, 1), int)\n",
        "    for row in raw_data:\n",
        "        X_kansas = np.vstack([X_kansas, np.array([int(row[3])])])  # column for living area\n",
        "        y_kansas = np.append(y_kansas, np.array([int(row[7])]))    # column for price\n",
        "\n",
        "y_house = np.expand_dims(y_kansas, 1)\n",
        "\n",
        "print('Training data shape:', X_kansas.shape)\n",
        "print('Ground truth values shape:', y_kansas.shape)"
      ]
    },
    {
      "cell_type": "markdown",
      "metadata": {
        "id": "O_tIhXNVpc1M"
      },
      "source": [
        "Let's visualize the Kansas City dataset in a 2D graph."
      ]
    },
    {
      "cell_type": "code",
      "execution_count": 141,
      "metadata": {
        "id": "qI-xUpbNpc1N",
        "colab": {
          "base_uri": "https://localhost:8080/",
          "height": 542
        },
        "outputId": "73d13fe0-417c-4bda-e2f5-eb5e312de815"
      },
      "outputs": [
        {
          "output_type": "display_data",
          "data": {
            "text/plain": [
              "<Figure size 600x600 with 1 Axes>"
            ],
            "image/png": "[encoded data removed]"
          },
          "metadata": {}
        }
      ],
      "source": [
        "fig, ax = plt.subplots()\n",
        "ax.plot(X_kansas, y_kansas, 'ro', label='Original data')\n",
        "\n",
        "plt.ylabel('Price')\n",
        "plt.xlabel('Living area')\n",
        "ax.legend()\n",
        "plt.grid()\n",
        "plt.show()"
      ]
    },
    {
      "cell_type": "markdown",
      "metadata": {
        "id": "UGxFdTW_pc1N"
      },
      "source": [
        "## Linear Regression on the Kansas City Dataset using Analytical Solution\n",
        "\n",
        "Create a linear regression model on the Kansas City dataset using the analytical solution."
      ]
    },
    {
      "cell_type": "markdown",
      "metadata": {
        "id": "Oo3AnbUlpc1N"
      },
      "source": [
        "### Step 1: Train. Compute for the weights via the analytical solution.\n",
        "\n",
        "\n",
        "Compute the weights using the Kansas City dataset by calling the function `compute_weights()` and assign the return value to variable `W`."
      ]
    },
    {
      "cell_type": "code",
      "execution_count": 142,
      "metadata": {
        "id": "R8yH9179pc1N"
      },
      "outputs": [],
      "source": [
        "# Write your code here\n",
        "W = analytical_method.compute_weights(X_kansas, y_kansas)"
      ]
    },
    {
      "cell_type": "markdown",
      "metadata": {
        "id": "WAbK6DC6pc1N"
      },
      "source": [
        "Display weights."
      ]
    },
    {
      "cell_type": "code",
      "execution_count": 143,
      "metadata": {
        "id": "LJomJdnWpc1N",
        "colab": {
          "base_uri": "https://localhost:8080/"
        },
        "outputId": "d542af15-c7eb-4a62-e5ca-08530bc8176e"
      },
      "outputs": [
        {
          "output_type": "stream",
          "name": "stdout",
          "text": [
            "70.23 -10091.13\n"
          ]
        }
      ],
      "source": [
        "print('{:.2f}'.format(float(W[0])), '{:.2f}'.format(float(W[1])))"
      ]
    },
    {
      "cell_type": "markdown",
      "metadata": {
        "id": "1m9JINwrpc1N"
      },
      "source": [
        "<span style=\"color:red;\">**Question 1-8**: What is the value of the first weight? Limit to 2 decimal places.</span>"
      ]
    },
    {
      "cell_type": "markdown",
      "source": [
        "70.23"
      ],
      "metadata": {
        "id": "pHIAiHlPtbhL"
      }
    },
    {
      "cell_type": "markdown",
      "metadata": {
        "id": "geWJMhJbpc1N"
      },
      "source": [
        "<span style=\"color:red;\">**Question 1-9**: Why are there are 2 weights if we only have 1 feature? Where did the 2nd one come from?</span>"
      ]
    },
    {
      "cell_type": "markdown",
      "source": [
        "It's because of the bias variance in feature_transform()\n",
        "\n"
      ],
      "metadata": {
        "id": "5dhCiIwjtdLo"
      }
    },
    {
      "cell_type": "markdown",
      "metadata": {
        "id": "46SQosyipc1N"
      },
      "source": [
        "### Step 2: Test. Predict test data with the weights computed\n",
        "\n",
        "Get the predicted `y` values given the Kansas City dataset and using the `AnalyticalMethod` and assign the return value to variable `y_predicted`."
      ]
    },
    {
      "cell_type": "code",
      "execution_count": 144,
      "metadata": {
        "id": "oCM2MEtgpc1N"
      },
      "outputs": [],
      "source": [
        "# Write your code here\n",
        "y_predicted = analytical_method.predict(X_kansas)"
      ]
    },
    {
      "cell_type": "markdown",
      "metadata": {
        "id": "oNQygSjypc1N"
      },
      "source": [
        "Display the result in a 2D graph."
      ]
    },
    {
      "cell_type": "code",
      "execution_count": 145,
      "metadata": {
        "scrolled": false,
        "id": "NsjOXoe8pc1O",
        "colab": {
          "base_uri": "https://localhost:8080/",
          "height": 542
        },
        "outputId": "c846dce6-81c4-4d8c-9711-f64b0a8e687c"
      },
      "outputs": [
        {
          "output_type": "display_data",
          "data": {
            "text/plain": [
              "<Figure size 600x600 with 1 Axes>"
            ],
            "image/png": "[encoded data removed]"
          },
          "metadata": {}
        }
      ],
      "source": [
        "fig, ax1 = plt.subplots()\n",
        "ax1.plot(X_kansas, y_kansas, 'ro', label='Original data')\n",
        "line1, = ax1.plot(X_kansas, y_predicted, label='Regression line')\n",
        "\n",
        "plt.ylabel('Price')\n",
        "plt.xlabel('Living area')\n",
        "ax1.legend()\n",
        "plt.grid()\n",
        "plt.show()"
      ]
    },
    {
      "cell_type": "markdown",
      "metadata": {
        "id": "mQzfkegNpc1O"
      },
      "source": [
        "<span style=\"color:green;\">**Question**: Describe the regression line with respect to the original data. Is it in the middle of the data points? Is it away from the data points?</span>"
      ]
    },
    {
      "cell_type": "markdown",
      "source": [
        "It's in the middle"
      ],
      "metadata": {
        "id": "4sWXgl44vnHv"
      }
    },
    {
      "cell_type": "markdown",
      "metadata": {
        "id": "s7TpYK0Dpc1O"
      },
      "source": [
        "### Evaluate using Root Mean Squared Error (RMSE)\n",
        "\n",
        "Compute the RMSE of our model and assign the return value to variable `rmse`."
      ]
    },
    {
      "cell_type": "code",
      "execution_count": 146,
      "metadata": {
        "id": "Y-zkm0X7pc1O"
      },
      "outputs": [],
      "source": [
        "# Write your code here\n",
        "rmse = compute_RMSE(y_kansas, y_predicted)"
      ]
    },
    {
      "cell_type": "code",
      "execution_count": 147,
      "metadata": {
        "id": "cH88y-Lopc1O",
        "colab": {
          "base_uri": "https://localhost:8080/"
        },
        "outputId": "54cb76ee-c065-4619-b2c6-35d953589584"
      },
      "outputs": [
        {
          "output_type": "stream",
          "name": "stdout",
          "text": [
            "22299.25\n"
          ]
        }
      ],
      "source": [
        "print('{:.2f}'.format(rmse))"
      ]
    },
    {
      "cell_type": "markdown",
      "metadata": {
        "id": "JbZMK8uEpc1O"
      },
      "source": [
        "<span style=\"color:red;\">**Question 1-10**: What is the RMSE of our model? Limit to 2 decimal places.</span>"
      ]
    },
    {
      "cell_type": "markdown",
      "source": [
        "22299.25"
      ],
      "metadata": {
        "id": "e668-xetvzks"
      }
    },
    {
      "cell_type": "markdown",
      "metadata": {
        "id": "UgmBg2sHpc1O"
      },
      "source": [
        "## Linear Regression on the Kansas City Dataset using `np.polyfit`\n",
        "Use `np.polyfit` to get a similar result."
      ]
    },
    {
      "cell_type": "markdown",
      "metadata": {
        "id": "zJ2waxhcpc1O"
      },
      "source": [
        "Import the `PolyFitMethod` class."
      ]
    },
    {
      "cell_type": "code",
      "execution_count": 148,
      "metadata": {
        "id": "XboQrOixpc1P"
      },
      "outputs": [],
      "source": [
        "from linear_regression import PolyFitMethod"
      ]
    },
    {
      "cell_type": "markdown",
      "metadata": {
        "id": "Wu7pCeRZpc1P"
      },
      "source": [
        "Instantiate a `PolyFitMethod` object. Assign the object to variable `polyfit_method`."
      ]
    },
    {
      "cell_type": "code",
      "execution_count": 149,
      "metadata": {
        "id": "xWpB9ZrBpc1P"
      },
      "outputs": [],
      "source": [
        "# Write your code here\n",
        "polyfit_method = PolyFitMethod()"
      ]
    },
    {
      "cell_type": "markdown",
      "metadata": {
        "id": "hNXr-t9ppc1P"
      },
      "source": [
        "### Step 1: Compute for the weights via `np.polyfit`.\n",
        "\n",
        "Open `linear_regression.py` file and complete the `compute_weights()` function in the `PolyFitMethod` class. This function computes the weights using the `np.polyfit()` function.\n",
        "\n",
        "This function has 2 parameters - `X` and `y`, where `X` is an `np.ndarray` of shape (N,) containing the training data and `y` is an `np.ndarray` of shape (N,) containing the ground truth values."
      ]
    },
    {
      "cell_type": "markdown",
      "metadata": {
        "id": "LzZLmSnVpc1P"
      },
      "source": [
        "Implement the `compute_weights()` function in the `PolyFitMethod` class. Inline comments should help you in completing the contents of the function."
      ]
    },
    {
      "cell_type": "markdown",
      "metadata": {
        "id": "EUBmw2Cepc1P"
      },
      "source": [
        "The function `compute_weights()` requires a 1D vector for `X`, and our current `X` has a shape of (128, 1). The function `np.squeeze()` removes this 'unneccesary axis'."
      ]
    },
    {
      "cell_type": "code",
      "execution_count": 150,
      "metadata": {
        "id": "AisrCoNPpc1P"
      },
      "outputs": [],
      "source": [
        "polyfit_X_kansas = np.squeeze(X_kansas)"
      ]
    },
    {
      "cell_type": "markdown",
      "metadata": {
        "id": "CbKqv1kOpc1P"
      },
      "source": [
        "Compute the weights by calling the function `compute_weights()` and assign the return value to variable `W`."
      ]
    },
    {
      "cell_type": "code",
      "execution_count": 151,
      "metadata": {
        "id": "m2bNBSC8pc1P"
      },
      "outputs": [],
      "source": [
        "# Write your code here\n",
        "W = polyfit_method.compute_weights(polyfit_X_kansas, y_kansas)"
      ]
    },
    {
      "cell_type": "markdown",
      "metadata": {
        "id": "d-foYfmtpc1P"
      },
      "source": [
        "Display weights."
      ]
    },
    {
      "cell_type": "code",
      "execution_count": 152,
      "metadata": {
        "id": "cQWBvopgpc1Q",
        "colab": {
          "base_uri": "https://localhost:8080/"
        },
        "outputId": "9ba4fd80-0360-4811-94e4-02722b9a544b"
      },
      "outputs": [
        {
          "output_type": "stream",
          "name": "stdout",
          "text": [
            "70.23 -10091.13\n"
          ]
        }
      ],
      "source": [
        "print('{:.2f}'.format(float(W[0])), '{:.2f}'.format(float(W[1])))"
      ]
    },
    {
      "cell_type": "markdown",
      "metadata": {
        "id": "AsGKCAPlpc1Q"
      },
      "source": [
        "**Checkpoint:** You should get the same weights as when we used the analytical method."
      ]
    },
    {
      "cell_type": "markdown",
      "metadata": {
        "id": "6S7HIZnfpc1Q"
      },
      "source": [
        "### Step 2: Test! Predict test data with the computed weights\n",
        "\n",
        "Open `linear_regression.py` file and complete the `predict()` function in the `PolyFitMethod` class. This function predicts values for the test data."
      ]
    },
    {
      "cell_type": "markdown",
      "metadata": {
        "id": "--wfxqL9pc1Q"
      },
      "source": [
        "Implement the `predict()` function in the `PolyFitMethod` class. Inline comments should help you in completing the contents of the function."
      ]
    },
    {
      "cell_type": "markdown",
      "metadata": {
        "id": "WUc1mVLrpc1Q"
      },
      "source": [
        "Get the predicted `y` values given for the living area listed in the array `new_x` using both the `AnalyticalMethod` class and the `PolyFitMethod` class. Assign the return value of the `AnalyticalMethod` to variable `y_pred_analytical`, while assign the return value of the `PolyFitMethod` to the variable `y_pred_polyfit`."
      ]
    },
    {
      "cell_type": "code",
      "execution_count": 153,
      "metadata": {
        "id": "0lJV7Ps7pc1Q"
      },
      "outputs": [],
      "source": [
        "new_x = np.array([1980, 2200, 2050])"
      ]
    },
    {
      "cell_type": "code",
      "execution_count": 155,
      "metadata": {
        "id": "ZzOoZMuCpc1Q"
      },
      "outputs": [],
      "source": [
        "# Write your code here\n",
        "y_pred_polyfit = polyfit_method.predict(new_x)\n",
        "y_pred_analytical = analytical_method.predict(new_x)"
      ]
    },
    {
      "cell_type": "code",
      "execution_count": 156,
      "metadata": {
        "id": "om9UCA_Opc1Q",
        "colab": {
          "base_uri": "https://localhost:8080/"
        },
        "outputId": "9dd2d517-22ee-4c52-85aa-1353adecdebb"
      },
      "outputs": [
        {
          "output_type": "stream",
          "name": "stdout",
          "text": [
            "Using analytical method:\t [128956.98 144406.77 133872.82]\n",
            "Using PolyFit method:\t\t [128956.98 144406.77 133872.82]\n"
          ]
        }
      ],
      "source": [
        "print('Using analytical method:\\t', np.around(y_pred_analytical.flatten(), 2))\n",
        "print('Using PolyFit method:\\t\\t', np.around(y_pred_polyfit, 2))"
      ]
    },
    {
      "cell_type": "markdown",
      "metadata": {
        "id": "QSySQl6Bpc1Q"
      },
      "source": [
        "<span style=\"color:red;\">**Question 1-11**: Using analytical method, what is the predicted price given a living area of 2200? Limit to 2 decimal places.</span>"
      ]
    },
    {
      "cell_type": "markdown",
      "source": [
        "144406.77"
      ],
      "metadata": {
        "id": "NSMn86NJwWM6"
      }
    },
    {
      "cell_type": "markdown",
      "metadata": {
        "id": "bgl2sxzMpc1Q"
      },
      "source": [
        "<span style=\"color:red;\">**Question 1-12**: What can you say about the predicted prices of the analytical method and the polyfit method?</span>"
      ]
    },
    {
      "cell_type": "markdown",
      "source": [
        "They both seem to be the same"
      ],
      "metadata": {
        "id": "IEyNHJ4BwaQt"
      }
    },
    {
      "cell_type": "markdown",
      "metadata": {
        "id": "fTaJDCkApc1Q"
      },
      "source": [
        "Get the predicted `y` values given the Kansas City dataset and using the `PolyFitMethod` and assign the return value to variable `y_predicted`."
      ]
    },
    {
      "cell_type": "code",
      "execution_count": 157,
      "metadata": {
        "id": "n7N83QQHpc1R"
      },
      "outputs": [],
      "source": [
        "# Write your code here\n",
        "y_predicted = polyfit_method.predict(X_kansas)"
      ]
    },
    {
      "cell_type": "code",
      "execution_count": 158,
      "metadata": {
        "id": "Qi-yLJfGpc1R",
        "colab": {
          "base_uri": "https://localhost:8080/",
          "height": 542
        },
        "outputId": "6e27d54c-5144-44ce-ec76-57d9a74015bd"
      },
      "outputs": [
        {
          "output_type": "display_data",
          "data": {
            "text/plain": [
              "<Figure size 600x600 with 1 Axes>"
            ],
            "image/png": "[encoded data removed]"
          },
          "metadata": {}
        }
      ],
      "source": [
        "fig, ax2 = plt.subplots()\n",
        "ax2.plot(X_kansas, y_kansas, 'ro', label='Original data')\n",
        "\n",
        "line2, = ax2.plot(X_kansas, y_predicted, label='Regression line')\n",
        "\n",
        "plt.ylabel('Price')\n",
        "plt.xlabel('Living area')\n",
        "ax2.legend()\n",
        "plt.grid()\n",
        "plt.show()"
      ]
    },
    {
      "cell_type": "markdown",
      "metadata": {
        "id": "4wbO-1OMpc1R"
      },
      "source": [
        "## Linear Regression on the Kansas City Dataset using Gradient Descent\n",
        "Next, let's implement the iterative solution to linear regression using gradient descent.\n",
        "\n",
        "For this, we will use sklearn's implementation.\n",
        "\n",
        "sklearn already has an implementation for the approximate/iterative solution for finding the parameters/weights that minimizes the loss function. It does the following automatically:\n",
        "\n",
        "1. Initialize the parameters/weight vector.\n",
        "\n",
        "2. Calculate the cost/loss/objective function for current parameters/weights.\n",
        "\n",
        "3. Compute for the gradients of the loss function with respect to the parameters/weights.\n",
        "\n",
        "4. Implement gradient descent to update the paramters/weights."
      ]
    },
    {
      "cell_type": "markdown",
      "metadata": {
        "id": "0DlDGM3Kpc1R"
      },
      "source": [
        "Import the `SGDRegressor` class."
      ]
    },
    {
      "cell_type": "code",
      "execution_count": 274,
      "metadata": {
        "id": "SYSfltQlpc1R"
      },
      "outputs": [],
      "source": [
        "from sklearn.linear_model import SGDRegressor"
      ]
    },
    {
      "cell_type": "markdown",
      "metadata": {
        "id": "rW4bDzJHpc1R"
      },
      "source": [
        "Instantiate an `SGDRegressor` object. Set the following hyperparameters:\n",
        "- Initial learning rate: 1-e9\n",
        "- Maximum iterations: 200\n",
        "- Penalty: None\n",
        "- Learning rate: 'constant'\n",
        "- Random state: 1\n",
        "- Verbose: 1\n",
        "\n",
        "See the documentation [here](https://scikit-learn.org/stable/modules/generated/sklearn.linear_model.SGDRegressor.html#sklearn-linear-model-sgdregressor)."
      ]
    },
    {
      "cell_type": "code",
      "execution_count": 275,
      "metadata": {
        "id": "ndqJycgLpc1R"
      },
      "outputs": [],
      "source": [
        "# Write your code here\n",
        "sgd = SGDRegressor(eta0=1e-9,learning_rate='constant', max_iter=200, penalty=None,random_state=1,verbose=1)"
      ]
    },
    {
      "cell_type": "markdown",
      "metadata": {
        "id": "tZoE9fEHpc1R"
      },
      "source": [
        "Call the `partial_fit()` function of the model to train it for 1 epoch."
      ]
    },
    {
      "cell_type": "code",
      "execution_count": 276,
      "metadata": {
        "id": "g6ysb5xMpc1R",
        "colab": {
          "base_uri": "https://localhost:8080/",
          "height": 150
        },
        "outputId": "7453c340-41b1-49f7-bbb6-7b345a442754"
      },
      "outputs": [
        {
          "output_type": "stream",
          "name": "stdout",
          "text": [
            "-- Epoch 1\n",
            "Norm: 26.30, NNZs: 1, Bias: 0.012959, T: 128, Avg. loss: 5645644646.191728\n",
            "Total training time: 0.00 seconds.\n"
          ]
        },
        {
          "output_type": "execute_result",
          "data": {
            "text/plain": [
              "SGDRegressor(eta0=1e-09, learning_rate='constant', max_iter=200, penalty=None,\n",
              "             random_state=1, verbose=1)"
            ],
            "text/html": [
              "<style>#sk-container-id-37 {\n",
              "  /* Definition of color scheme common for light and dark mode */\n",
              "  --sklearn-color-text: #000;\n",
              "  --sklearn-color-text-muted: #666;\n",
              "  --sklearn-color-line: gray;\n",
              "  /* Definition of color scheme for unfitted estimators */\n",
              "  --sklearn-color-unfitted-level-0: #fff5e6;\n",
              "  --sklearn-color-unfitted-level-1: #f6e4d2;\n",
              "  --sklearn-color-unfitted-level-2: #ffe0b3;\n",
              "  --sklearn-color-unfitted-level-3: chocolate;\n",
              "  /* Definition of color scheme for fitted estimators */\n",
              "  --sklearn-color-fitted-level-0: #f0f8ff;\n",
              "  --sklearn-color-fitted-level-1: #d4ebff;\n",
              "  --sklearn-color-fitted-level-2: #b3dbfd;\n",
              "  --sklearn-color-fitted-level-3: cornflowerblue;\n",
              "\n",
              "  /* Specific color for light theme */\n",
              "  --sklearn-color-text-on-default-background: var(--sg-text-color, var(--theme-code-foreground, var(--jp-content-font-color1, black)));\n",
              "  --sklearn-color-background: var(--sg-background-color, var(--theme-background, var(--jp-layout-color0, white)));\n",
              "  --sklearn-color-border-box: var(--sg-text-color, var(--theme-code-foreground, var(--jp-content-font-color1, black)));\n",
              "  --sklearn-color-icon: #696969;\n",
              "\n",
              "  @media (prefers-color-scheme: dark) {\n",
              "    /* Redefinition of color scheme for dark theme */\n",
              "    --sklearn-color-text-on-default-background: var(--sg-text-color, var(--theme-code-foreground, var(--jp-content-font-color1, white)));\n",
              "    --sklearn-color-background: var(--sg-background-color, var(--theme-background, var(--jp-layout-color0, #111)));\n",
              "    --sklearn-color-border-box: var(--sg-text-color, var(--theme-code-foreground, var(--jp-content-font-color1, white)));\n",
              "    --sklearn-color-icon: #878787;\n",
              "  }\n",
              "}\n",
              "\n",
              "#sk-container-id-37 {\n",
              "  color: var(--sklearn-color-text);\n",
              "}\n",
              "\n",
              "#sk-container-id-37 pre {\n",
              "  padding: 0;\n",
              "}\n",
              "\n",
              "#sk-container-id-37 input.sk-hidden--visually {\n",
              "  border: 0;\n",
              "  clip: rect(1px 1px 1px 1px);\n",
              "  clip: rect(1px, 1px, 1px, 1px);\n",
              "  height: 1px;\n",
              "  margin: -1px;\n",
              "  overflow: hidden;\n",
              "  padding: 0;\n",
              "  position: absolute;\n",
              "  width: 1px;\n",
              "}\n",
              "\n",
              "#sk-container-id-37 div.sk-dashed-wrapped {\n",
              "  border: 1px dashed var(--sklearn-color-line);\n",
              "  margin: 0 0.4em 0.5em 0.4em;\n",
              "  box-sizing: border-box;\n",
              "  padding-bottom: 0.4em;\n",
              "  background-color: var(--sklearn-color-background);\n",
              "}\n",
              "\n",
              "#sk-container-id-37 div.sk-container {\n",
              "  /* jupyter's `normalize.less` sets `[hidden] { display: none; }`\n",
              "     but bootstrap.min.css set `[hidden] { display: none !important; }`\n",
              "     so we also need the `!important` here to be able to override the\n",
              "     default hidden behavior on the sphinx rendered scikit-learn.org.\n",
              "     See: https://github.com/scikit-learn/scikit-learn/issues/21755 */\n",
              "  display: inline-block !important;\n",
              "  position: relative;\n",
              "}\n",
              "\n",
              "#sk-container-id-37 div.sk-text-repr-fallback {\n",
              "  display: none;\n",
              "}\n",
              "\n",
              "div.sk-parallel-item,\n",
              "div.sk-serial,\n",
              "div.sk-item {\n",
              "  /* draw centered vertical line to link estimators */\n",
              "  background-image: linear-gradient(var(--sklearn-color-text-on-default-background), var(--sklearn-color-text-on-default-background));\n",
              "  background-size: 2px 100%;\n",
              "  background-repeat: no-repeat;\n",
              "  background-position: center center;\n",
              "}\n",
              "\n",
              "/* Parallel-specific style estimator block */\n",
              "\n",
              "#sk-container-id-37 div.sk-parallel-item::after {\n",
              "  content: \"\";\n",
              "  width: 100%;\n",
              "  border-bottom: 2px solid var(--sklearn-color-text-on-default-background);\n",
              "  flex-grow: 1;\n",
              "}\n",
              "\n",
              "#sk-container-id-37 div.sk-parallel {\n",
              "  display: flex;\n",
              "  align-items: stretch;\n",
              "  justify-content: center;\n",
              "  background-color: var(--sklearn-color-background);\n",
              "  position: relative;\n",
              "}\n",
              "\n",
              "#sk-container-id-37 div.sk-parallel-item {\n",
              "  display: flex;\n",
              "  flex-direction: column;\n",
              "}\n",
              "\n",
              "#sk-container-id-37 div.sk-parallel-item:first-child::after {\n",
              "  align-self: flex-end;\n",
              "  width: 50%;\n",
              "}\n",
              "\n",
              "#sk-container-id-37 div.sk-parallel-item:last-child::after {\n",
              "  align-self: flex-start;\n",
              "  width: 50%;\n",
              "}\n",
              "\n",
              "#sk-container-id-37 div.sk-parallel-item:only-child::after {\n",
              "  width: 0;\n",
              "}\n",
              "\n",
              "/* Serial-specific style estimator block */\n",
              "\n",
              "#sk-container-id-37 div.sk-serial {\n",
              "  display: flex;\n",
              "  flex-direction: column;\n",
              "  align-items: center;\n",
              "  background-color: var(--sklearn-color-background);\n",
              "  padding-right: 1em;\n",
              "  padding-left: 1em;\n",
              "}\n",
              "\n",
              "\n",
              "/* Toggleable style: style used for estimator/Pipeline/ColumnTransformer box that is\n",
              "clickable and can be expanded/collapsed.\n",
              "- Pipeline and ColumnTransformer use this feature and define the default style\n",
              "- Estimators will overwrite some part of the style using the `sk-estimator` class\n",
              "*/\n",
              "\n",
              "/* Pipeline and ColumnTransformer style (default) */\n",
              "\n",
              "#sk-container-id-37 div.sk-toggleable {\n",
              "  /* Default theme specific background. It is overwritten whether we have a\n",
              "  specific estimator or a Pipeline/ColumnTransformer */\n",
              "  background-color: var(--sklearn-color-background);\n",
              "}\n",
              "\n",
              "/* Toggleable label */\n",
              "#sk-container-id-37 label.sk-toggleable__label {\n",
              "  cursor: pointer;\n",
              "  display: flex;\n",
              "  width: 100%;\n",
              "  margin-bottom: 0;\n",
              "  padding: 0.5em;\n",
              "  box-sizing: border-box;\n",
              "  text-align: center;\n",
              "  align-items: start;\n",
              "  justify-content: space-between;\n",
              "  gap: 0.5em;\n",
              "}\n",
              "\n",
              "#sk-container-id-37 label.sk-toggleable__label .caption {\n",
              "  font-size: 0.6rem;\n",
              "  font-weight: lighter;\n",
              "  color: var(--sklearn-color-text-muted);\n",
              "}\n",
              "\n",
              "#sk-container-id-37 label.sk-toggleable__label-arrow:before {\n",
              "  /* Arrow on the left of the label */\n",
              "  content: \"▸\";\n",
              "  float: left;\n",
              "  margin-right: 0.25em;\n",
              "  color: var(--sklearn-color-icon);\n",
              "}\n",
              "\n",
              "#sk-container-id-37 label.sk-toggleable__label-arrow:hover:before {\n",
              "  color: var(--sklearn-color-text);\n",
              "}\n",
              "\n",
              "/* Toggleable content - dropdown */\n",
              "\n",
              "#sk-container-id-37 div.sk-toggleable__content {\n",
              "  max-height: 0;\n",
              "  max-width: 0;\n",
              "  overflow: hidden;\n",
              "  text-align: left;\n",
              "  /* unfitted */\n",
              "  background-color: var(--sklearn-color-unfitted-level-0);\n",
              "}\n",
              "\n",
              "#sk-container-id-37 div.sk-toggleable__content.fitted {\n",
              "  /* fitted */\n",
              "  background-color: var(--sklearn-color-fitted-level-0);\n",
              "}\n",
              "\n",
              "#sk-container-id-37 div.sk-toggleable__content pre {\n",
              "  margin: 0.2em;\n",
              "  border-radius: 0.25em;\n",
              "  color: var(--sklearn-color-text);\n",
              "  /* unfitted */\n",
              "  background-color: var(--sklearn-color-unfitted-level-0);\n",
              "}\n",
              "\n",
              "#sk-container-id-37 div.sk-toggleable__content.fitted pre {\n",
              "  /* unfitted */\n",
              "  background-color: var(--sklearn-color-fitted-level-0);\n",
              "}\n",
              "\n",
              "#sk-container-id-37 input.sk-toggleable__control:checked~div.sk-toggleable__content {\n",
              "  /* Expand drop-down */\n",
              "  max-height: 200px;\n",
              "  max-width: 100%;\n",
              "  overflow: auto;\n",
              "}\n",
              "\n",
              "#sk-container-id-37 input.sk-toggleable__control:checked~label.sk-toggleable__label-arrow:before {\n",
              "  content: \"▾\";\n",
              "}\n",
              "\n",
              "/* Pipeline/ColumnTransformer-specific style */\n",
              "\n",
              "#sk-container-id-37 div.sk-label input.sk-toggleable__control:checked~label.sk-toggleable__label {\n",
              "  color: var(--sklearn-color-text);\n",
              "  background-color: var(--sklearn-color-unfitted-level-2);\n",
              "}\n",
              "\n",
              "#sk-container-id-37 div.sk-label.fitted input.sk-toggleable__control:checked~label.sk-toggleable__label {\n",
              "  background-color: var(--sklearn-color-fitted-level-2);\n",
              "}\n",
              "\n",
              "/* Estimator-specific style */\n",
              "\n",
              "/* Colorize estimator box */\n",
              "#sk-container-id-37 div.sk-estimator input.sk-toggleable__control:checked~label.sk-toggleable__label {\n",
              "  /* unfitted */\n",
              "  background-color: var(--sklearn-color-unfitted-level-2);\n",
              "}\n",
              "\n",
              "#sk-container-id-37 div.sk-estimator.fitted input.sk-toggleable__control:checked~label.sk-toggleable__label {\n",
              "  /* fitted */\n",
              "  background-color: var(--sklearn-color-fitted-level-2);\n",
              "}\n",
              "\n",
              "#sk-container-id-37 div.sk-label label.sk-toggleable__label,\n",
              "#sk-container-id-37 div.sk-label label {\n",
              "  /* The background is the default theme color */\n",
              "  color: var(--sklearn-color-text-on-default-background);\n",
              "}\n",
              "\n",
              "/* On hover, darken the color of the background */\n",
              "#sk-container-id-37 div.sk-label:hover label.sk-toggleable__label {\n",
              "  color: var(--sklearn-color-text);\n",
              "  background-color: var(--sklearn-color-unfitted-level-2);\n",
              "}\n",
              "\n",
              "/* Label box, darken color on hover, fitted */\n",
              "#sk-container-id-37 div.sk-label.fitted:hover label.sk-toggleable__label.fitted {\n",
              "  color: var(--sklearn-color-text);\n",
              "  background-color: var(--sklearn-color-fitted-level-2);\n",
              "}\n",
              "\n",
              "/* Estimator label */\n",
              "\n",
              "#sk-container-id-37 div.sk-label label {\n",
              "  font-family: monospace;\n",
              "  font-weight: bold;\n",
              "  display: inline-block;\n",
              "  line-height: 1.2em;\n",
              "}\n",
              "\n",
              "#sk-container-id-37 div.sk-label-container {\n",
              "  text-align: center;\n",
              "}\n",
              "\n",
              "/* Estimator-specific */\n",
              "#sk-container-id-37 div.sk-estimator {\n",
              "  font-family: monospace;\n",
              "  border: 1px dotted var(--sklearn-color-border-box);\n",
              "  border-radius: 0.25em;\n",
              "  box-sizing: border-box;\n",
              "  margin-bottom: 0.5em;\n",
              "  /* unfitted */\n",
              "  background-color: var(--sklearn-color-unfitted-level-0);\n",
              "}\n",
              "\n",
              "#sk-container-id-37 div.sk-estimator.fitted {\n",
              "  /* fitted */\n",
              "  background-color: var(--sklearn-color-fitted-level-0);\n",
              "}\n",
              "\n",
              "/* on hover */\n",
              "#sk-container-id-37 div.sk-estimator:hover {\n",
              "  /* unfitted */\n",
              "  background-color: var(--sklearn-color-unfitted-level-2);\n",
              "}\n",
              "\n",
              "#sk-container-id-37 div.sk-estimator.fitted:hover {\n",
              "  /* fitted */\n",
              "  background-color: var(--sklearn-color-fitted-level-2);\n",
              "}\n",
              "\n",
              "/* Specification for estimator info (e.g. \"i\" and \"?\") */\n",
              "\n",
              "/* Common style for \"i\" and \"?\" */\n",
              "\n",
              ".sk-estimator-doc-link,\n",
              "a:link.sk-estimator-doc-link,\n",
              "a:visited.sk-estimator-doc-link {\n",
              "  float: right;\n",
              "  font-size: smaller;\n",
              "  line-height: 1em;\n",
              "  font-family: monospace;\n",
              "  background-color: var(--sklearn-color-background);\n",
              "  border-radius: 1em;\n",
              "  height: 1em;\n",
              "  width: 1em;\n",
              "  text-decoration: none !important;\n",
              "  margin-left: 0.5em;\n",
              "  text-align: center;\n",
              "  /* unfitted */\n",
              "  border: var(--sklearn-color-unfitted-level-1) 1pt solid;\n",
              "  color: var(--sklearn-color-unfitted-level-1);\n",
              "}\n",
              "\n",
              ".sk-estimator-doc-link.fitted,\n",
              "a:link.sk-estimator-doc-link.fitted,\n",
              "a:visited.sk-estimator-doc-link.fitted {\n",
              "  /* fitted */\n",
              "  border: var(--sklearn-color-fitted-level-1) 1pt solid;\n",
              "  color: var(--sklearn-color-fitted-level-1);\n",
              "}\n",
              "\n",
              "/* On hover */\n",
              "div.sk-estimator:hover .sk-estimator-doc-link:hover,\n",
              ".sk-estimator-doc-link:hover,\n",
              "div.sk-label-container:hover .sk-estimator-doc-link:hover,\n",
              ".sk-estimator-doc-link:hover {\n",
              "  /* unfitted */\n",
              "  background-color: var(--sklearn-color-unfitted-level-3);\n",
              "  color: var(--sklearn-color-background);\n",
              "  text-decoration: none;\n",
              "}\n",
              "\n",
              "div.sk-estimator.fitted:hover .sk-estimator-doc-link.fitted:hover,\n",
              ".sk-estimator-doc-link.fitted:hover,\n",
              "div.sk-label-container:hover .sk-estimator-doc-link.fitted:hover,\n",
              ".sk-estimator-doc-link.fitted:hover {\n",
              "  /* fitted */\n",
              "  background-color: var(--sklearn-color-fitted-level-3);\n",
              "  color: var(--sklearn-color-background);\n",
              "  text-decoration: none;\n",
              "}\n",
              "\n",
              "/* Span, style for the box shown on hovering the info icon */\n",
              ".sk-estimator-doc-link span {\n",
              "  display: none;\n",
              "  z-index: 9999;\n",
              "  position: relative;\n",
              "  font-weight: normal;\n",
              "  right: .2ex;\n",
              "  padding: .5ex;\n",
              "  margin: .5ex;\n",
              "  width: min-content;\n",
              "  min-width: 20ex;\n",
              "  max-width: 50ex;\n",
              "  color: var(--sklearn-color-text);\n",
              "  box-shadow: 2pt 2pt 4pt #999;\n",
              "  /* unfitted */\n",
              "  background: var(--sklearn-color-unfitted-level-0);\n",
              "  border: .5pt solid var(--sklearn-color-unfitted-level-3);\n",
              "}\n",
              "\n",
              ".sk-estimator-doc-link.fitted span {\n",
              "  /* fitted */\n",
              "  background: var(--sklearn-color-fitted-level-0);\n",
              "  border: var(--sklearn-color-fitted-level-3);\n",
              "}\n",
              "\n",
              ".sk-estimator-doc-link:hover span {\n",
              "  display: block;\n",
              "}\n",
              "\n",
              "/* \"?\"-specific style due to the `<a>` HTML tag */\n",
              "\n",
              "#sk-container-id-37 a.estimator_doc_link {\n",
              "  float: right;\n",
              "  font-size: 1rem;\n",
              "  line-height: 1em;\n",
              "  font-family: monospace;\n",
              "  background-color: var(--sklearn-color-background);\n",
              "  border-radius: 1rem;\n",
              "  height: 1rem;\n",
              "  width: 1rem;\n",
              "  text-decoration: none;\n",
              "  /* unfitted */\n",
              "  color: var(--sklearn-color-unfitted-level-1);\n",
              "  border: var(--sklearn-color-unfitted-level-1) 1pt solid;\n",
              "}\n",
              "\n",
              "#sk-container-id-37 a.estimator_doc_link.fitted {\n",
              "  /* fitted */\n",
              "  border: var(--sklearn-color-fitted-level-1) 1pt solid;\n",
              "  color: var(--sklearn-color-fitted-level-1);\n",
              "}\n",
              "\n",
              "/* On hover */\n",
              "#sk-container-id-37 a.estimator_doc_link:hover {\n",
              "  /* unfitted */\n",
              "  background-color: var(--sklearn-color-unfitted-level-3);\n",
              "  color: var(--sklearn-color-background);\n",
              "  text-decoration: none;\n",
              "}\n",
              "\n",
              "#sk-container-id-37 a.estimator_doc_link.fitted:hover {\n",
              "  /* fitted */\n",
              "  background-color: var(--sklearn-color-fitted-level-3);\n",
              "}\n",
              "</style><div id=\"sk-container-id-37\" class=\"sk-top-container\"><div class=\"sk-text-repr-fallback\"><pre>SGDRegressor(eta0=1e-09, learning_rate=&#x27;constant&#x27;, max_iter=200, penalty=None,\n",
              "             random_state=1, verbose=1)</pre><b>In a Jupyter environment, please rerun this cell to show the HTML representation or trust the notebook. <br />On GitHub, the HTML representation is unable to render, please try loading this page with nbviewer.org.</b></div><div class=\"sk-container\" hidden><div class=\"sk-item\"><div class=\"sk-estimator fitted sk-toggleable\"><input class=\"sk-toggleable__control sk-hidden--visually\" id=\"sk-estimator-id-37\" type=\"checkbox\" checked><label for=\"sk-estimator-id-37\" class=\"sk-toggleable__label fitted sk-toggleable__label-arrow\"><div><div>SGDRegressor</div></div><div><a class=\"sk-estimator-doc-link fitted\" rel=\"noreferrer\" target=\"_blank\" href=\"https://scikit-learn.org/1.6/modules/generated/sklearn.linear_model.SGDRegressor.html\">?<span>Documentation for SGDRegressor</span></a><span class=\"sk-estimator-doc-link fitted\">i<span>Fitted</span></span></div></label><div class=\"sk-toggleable__content fitted\"><pre>SGDRegressor(eta0=1e-09, learning_rate=&#x27;constant&#x27;, max_iter=200, penalty=None,\n",
              "             random_state=1, verbose=1)</pre></div> </div></div></div></div>"
            ]
          },
          "metadata": {},
          "execution_count": 276
        }
      ],
      "source": [
        "# Write your code here\n",
        "sgd.partial_fit(X_kansas, y_kansas)"
      ]
    },
    {
      "cell_type": "markdown",
      "metadata": {
        "id": "hB4TLZ_Mpc1R"
      },
      "source": [
        "Get the predicted `y` values given the Kansas City dataset and using the `SGDRegressor` after 1 training epoch and assign the return value to variable `y_predicted`."
      ]
    },
    {
      "cell_type": "code",
      "execution_count": 277,
      "metadata": {
        "id": "Rx75Pn_Jpc1S"
      },
      "outputs": [],
      "source": [
        "# Write your code here\n",
        "y_predicted = sgd.predict(X_kansas)"
      ]
    },
    {
      "cell_type": "markdown",
      "metadata": {
        "id": "UFLK5ruwpc1S"
      },
      "source": [
        "Display the regression line after 1 training epoch."
      ]
    },
    {
      "cell_type": "code",
      "execution_count": 278,
      "metadata": {
        "id": "w5imXBxtpc1S",
        "colab": {
          "base_uri": "https://localhost:8080/",
          "height": 542
        },
        "outputId": "091c41d5-c4d3-4e4a-ed80-0fa60000209d"
      },
      "outputs": [
        {
          "output_type": "display_data",
          "data": {
            "text/plain": [
              "<Figure size 600x600 with 1 Axes>"
            ],
            "image/png": "[encoded data removed]"
          },
          "metadata": {}
        }
      ],
      "source": [
        "# Write your code here\n",
        "fig, ax3 = plt.subplots()\n",
        "ax3.plot(X_kansas, y_kansas, 'ro', label='Original data')\n",
        "\n",
        "line3, = ax3.plot(X_kansas, y_predicted, label='Regression line')\n",
        "\n",
        "plt.ylabel('Price')\n",
        "plt.xlabel('Living area')\n",
        "ax2.legend()\n",
        "plt.grid()\n",
        "plt.show()"
      ]
    },
    {
      "cell_type": "markdown",
      "metadata": {
        "id": "ikx8Vx1dpc1S"
      },
      "source": [
        "<span style=\"color:red;\">**Question 1-13**: Describe the regression line with respect to the original data after 1 training epoch. </span>"
      ]
    },
    {
      "cell_type": "markdown",
      "source": [
        "It seems to be underneath the datapoints and not fit at all"
      ],
      "metadata": {
        "id": "5lXxNFZxz7F_"
      }
    },
    {
      "cell_type": "markdown",
      "metadata": {
        "id": "SluFYI3epc1S"
      },
      "source": [
        "Finish training the model by calling the `fit()` function of the model."
      ]
    },
    {
      "cell_type": "code",
      "execution_count": 279,
      "metadata": {
        "id": "9dfRO7xqpc1S",
        "colab": {
          "base_uri": "https://localhost:8080/",
          "height": 1000
        },
        "outputId": "0b540cda-e1ec-4ddb-c271-792b1807a5c0"
      },
      "outputs": [
        {
          "output_type": "stream",
          "name": "stdout",
          "text": [
            "-- Epoch 1\n",
            "Norm: 26.30, NNZs: 1, Bias: 0.012959, T: 128, Avg. loss: 5645644646.191728\n",
            "Total training time: 0.00 seconds.\n",
            "-- Epoch 2\n",
            "Norm: 42.02, NNZs: 1, Bias: 0.020711, T: 256, Avg. loss: 2171516472.595378\n",
            "Total training time: 0.00 seconds.\n",
            "-- Epoch 3\n",
            "Norm: 51.46, NNZs: 1, Bias: 0.025354, T: 384, Avg. loss: 930507073.946104\n",
            "Total training time: 0.00 seconds.\n",
            "-- Epoch 4\n",
            "Norm: 56.90, NNZs: 1, Bias: 0.028036, T: 512, Avg. loss: 492762623.621682\n",
            "Total training time: 0.01 seconds.\n",
            "-- Epoch 5\n",
            "Norm: 60.32, NNZs: 1, Bias: 0.029717, T: 640, Avg. loss: 336854622.041573\n",
            "Total training time: 0.01 seconds.\n",
            "-- Epoch 6\n",
            "Norm: 62.27, NNZs: 1, Bias: 0.030663, T: 768, Avg. loss: 281088732.254880\n",
            "Total training time: 0.01 seconds.\n",
            "-- Epoch 7\n",
            "Norm: 63.55, NNZs: 1, Bias: 0.031285, T: 896, Avg. loss: 260947418.306435\n",
            "Total training time: 0.01 seconds.\n",
            "-- Epoch 8\n",
            "Norm: 64.26, NNZs: 1, Bias: 0.031619, T: 1024, Avg. loss: 253791381.405200\n",
            "Total training time: 0.01 seconds.\n",
            "-- Epoch 9\n",
            "Norm: 64.66, NNZs: 1, Bias: 0.031804, T: 1152, Avg. loss: 251431846.746378\n",
            "Total training time: 0.01 seconds.\n",
            "-- Epoch 10\n",
            "Norm: 64.92, NNZs: 1, Bias: 0.031919, T: 1280, Avg. loss: 250589338.951470\n",
            "Total training time: 0.01 seconds.\n",
            "-- Epoch 11\n",
            "Norm: 65.05, NNZs: 1, Bias: 0.031970, T: 1408, Avg. loss: 250320964.290546\n",
            "Total training time: 0.01 seconds.\n",
            "-- Epoch 12\n",
            "Norm: 65.15, NNZs: 1, Bias: 0.032005, T: 1536, Avg. loss: 250261112.845802\n",
            "Total training time: 0.02 seconds.\n",
            "-- Epoch 13\n",
            "Norm: 65.24, NNZs: 1, Bias: 0.032034, T: 1664, Avg. loss: 250178901.907104\n",
            "Total training time: 0.02 seconds.\n",
            "-- Epoch 14\n",
            "Norm: 65.20, NNZs: 1, Bias: 0.031997, T: 1792, Avg. loss: 250156990.743229\n",
            "Total training time: 0.02 seconds.\n",
            "-- Epoch 15\n",
            "Norm: 65.25, NNZs: 1, Bias: 0.032011, T: 1920, Avg. loss: 250210973.218964\n",
            "Total training time: 0.02 seconds.\n",
            "-- Epoch 16\n",
            "Norm: 65.23, NNZs: 1, Bias: 0.031986, T: 2048, Avg. loss: 250220600.492028\n",
            "Total training time: 0.02 seconds.\n",
            "-- Epoch 17\n",
            "Norm: 65.36, NNZs: 1, Bias: 0.032037, T: 2176, Avg. loss: 249936274.641606\n",
            "Total training time: 0.02 seconds.\n",
            "-- Epoch 18\n",
            "Norm: 65.25, NNZs: 1, Bias: 0.031967, T: 2304, Avg. loss: 250185358.982789\n",
            "Total training time: 0.02 seconds.\n",
            "-- Epoch 19\n",
            "Norm: 65.12, NNZs: 1, Bias: 0.031890, T: 2432, Avg. loss: 250004790.619473\n",
            "Total training time: 0.03 seconds.\n",
            "-- Epoch 20\n",
            "Norm: 65.11, NNZs: 1, Bias: 0.031871, T: 2560, Avg. loss: 250224483.172832\n",
            "Total training time: 0.03 seconds.\n",
            "-- Epoch 21\n",
            "Norm: 65.12, NNZs: 1, Bias: 0.031860, T: 2688, Avg. loss: 250189414.154594\n",
            "Total training time: 0.03 seconds.\n",
            "-- Epoch 22\n",
            "Norm: 65.16, NNZs: 1, Bias: 0.031865, T: 2816, Avg. loss: 250200887.898859\n",
            "Total training time: 0.03 seconds.\n",
            "Convergence after 22 epochs took 0.03 seconds\n"
          ]
        },
        {
          "output_type": "execute_result",
          "data": {
            "text/plain": [
              "SGDRegressor(eta0=1e-09, learning_rate='constant', max_iter=200, penalty=None,\n",
              "             random_state=1, verbose=1)"
            ],
            "text/html": [
              "<style>#sk-container-id-38 {\n",
              "  /* Definition of color scheme common for light and dark mode */\n",
              "  --sklearn-color-text: #000;\n",
              "  --sklearn-color-text-muted: #666;\n",
              "  --sklearn-color-line: gray;\n",
              "  /* Definition of color scheme for unfitted estimators */\n",
              "  --sklearn-color-unfitted-level-0: #fff5e6;\n",
              "  --sklearn-color-unfitted-level-1: #f6e4d2;\n",
              "  --sklearn-color-unfitted-level-2: #ffe0b3;\n",
              "  --sklearn-color-unfitted-level-3: chocolate;\n",
              "  /* Definition of color scheme for fitted estimators */\n",
              "  --sklearn-color-fitted-level-0: #f0f8ff;\n",
              "  --sklearn-color-fitted-level-1: #d4ebff;\n",
              "  --sklearn-color-fitted-level-2: #b3dbfd;\n",
              "  --sklearn-color-fitted-level-3: cornflowerblue;\n",
              "\n",
              "  /* Specific color for light theme */\n",
              "  --sklearn-color-text-on-default-background: var(--sg-text-color, var(--theme-code-foreground, var(--jp-content-font-color1, black)));\n",
              "  --sklearn-color-background: var(--sg-background-color, var(--theme-background, var(--jp-layout-color0, white)));\n",
              "  --sklearn-color-border-box: var(--sg-text-color, var(--theme-code-foreground, var(--jp-content-font-color1, black)));\n",
              "  --sklearn-color-icon: #696969;\n",
              "\n",
              "  @media (prefers-color-scheme: dark) {\n",
              "    /* Redefinition of color scheme for dark theme */\n",
              "    --sklearn-color-text-on-default-background: var(--sg-text-color, var(--theme-code-foreground, var(--jp-content-font-color1, white)));\n",
              "    --sklearn-color-background: var(--sg-background-color, var(--theme-background, var(--jp-layout-color0, #111)));\n",
              "    --sklearn-color-border-box: var(--sg-text-color, var(--theme-code-foreground, var(--jp-content-font-color1, white)));\n",
              "    --sklearn-color-icon: #878787;\n",
              "  }\n",
              "}\n",
              "\n",
              "#sk-container-id-38 {\n",
              "  color: var(--sklearn-color-text);\n",
              "}\n",
              "\n",
              "#sk-container-id-38 pre {\n",
              "  padding: 0;\n",
              "}\n",
              "\n",
              "#sk-container-id-38 input.sk-hidden--visually {\n",
              "  border: 0;\n",
              "  clip: rect(1px 1px 1px 1px);\n",
              "  clip: rect(1px, 1px, 1px, 1px);\n",
              "  height: 1px;\n",
              "  margin: -1px;\n",
              "  overflow: hidden;\n",
              "  padding: 0;\n",
              "  position: absolute;\n",
              "  width: 1px;\n",
              "}\n",
              "\n",
              "#sk-container-id-38 div.sk-dashed-wrapped {\n",
              "  border: 1px dashed var(--sklearn-color-line);\n",
              "  margin: 0 0.4em 0.5em 0.4em;\n",
              "  box-sizing: border-box;\n",
              "  padding-bottom: 0.4em;\n",
              "  background-color: var(--sklearn-color-background);\n",
              "}\n",
              "\n",
              "#sk-container-id-38 div.sk-container {\n",
              "  /* jupyter's `normalize.less` sets `[hidden] { display: none; }`\n",
              "     but bootstrap.min.css set `[hidden] { display: none !important; }`\n",
              "     so we also need the `!important` here to be able to override the\n",
              "     default hidden behavior on the sphinx rendered scikit-learn.org.\n",
              "     See: https://github.com/scikit-learn/scikit-learn/issues/21755 */\n",
              "  display: inline-block !important;\n",
              "  position: relative;\n",
              "}\n",
              "\n",
              "#sk-container-id-38 div.sk-text-repr-fallback {\n",
              "  display: none;\n",
              "}\n",
              "\n",
              "div.sk-parallel-item,\n",
              "div.sk-serial,\n",
              "div.sk-item {\n",
              "  /* draw centered vertical line to link estimators */\n",
              "  background-image: linear-gradient(var(--sklearn-color-text-on-default-background), var(--sklearn-color-text-on-default-background));\n",
              "  background-size: 2px 100%;\n",
              "  background-repeat: no-repeat;\n",
              "  background-position: center center;\n",
              "}\n",
              "\n",
              "/* Parallel-specific style estimator block */\n",
              "\n",
              "#sk-container-id-38 div.sk-parallel-item::after {\n",
              "  content: \"\";\n",
              "  width: 100%;\n",
              "  border-bottom: 2px solid var(--sklearn-color-text-on-default-background);\n",
              "  flex-grow: 1;\n",
              "}\n",
              "\n",
              "#sk-container-id-38 div.sk-parallel {\n",
              "  display: flex;\n",
              "  align-items: stretch;\n",
              "  justify-content: center;\n",
              "  background-color: var(--sklearn-color-background);\n",
              "  position: relative;\n",
              "}\n",
              "\n",
              "#sk-container-id-38 div.sk-parallel-item {\n",
              "  display: flex;\n",
              "  flex-direction: column;\n",
              "}\n",
              "\n",
              "#sk-container-id-38 div.sk-parallel-item:first-child::after {\n",
              "  align-self: flex-end;\n",
              "  width: 50%;\n",
              "}\n",
              "\n",
              "#sk-container-id-38 div.sk-parallel-item:last-child::after {\n",
              "  align-self: flex-start;\n",
              "  width: 50%;\n",
              "}\n",
              "\n",
              "#sk-container-id-38 div.sk-parallel-item:only-child::after {\n",
              "  width: 0;\n",
              "}\n",
              "\n",
              "/* Serial-specific style estimator block */\n",
              "\n",
              "#sk-container-id-38 div.sk-serial {\n",
              "  display: flex;\n",
              "  flex-direction: column;\n",
              "  align-items: center;\n",
              "  background-color: var(--sklearn-color-background);\n",
              "  padding-right: 1em;\n",
              "  padding-left: 1em;\n",
              "}\n",
              "\n",
              "\n",
              "/* Toggleable style: style used for estimator/Pipeline/ColumnTransformer box that is\n",
              "clickable and can be expanded/collapsed.\n",
              "- Pipeline and ColumnTransformer use this feature and define the default style\n",
              "- Estimators will overwrite some part of the style using the `sk-estimator` class\n",
              "*/\n",
              "\n",
              "/* Pipeline and ColumnTransformer style (default) */\n",
              "\n",
              "#sk-container-id-38 div.sk-toggleable {\n",
              "  /* Default theme specific background. It is overwritten whether we have a\n",
              "  specific estimator or a Pipeline/ColumnTransformer */\n",
              "  background-color: var(--sklearn-color-background);\n",
              "}\n",
              "\n",
              "/* Toggleable label */\n",
              "#sk-container-id-38 label.sk-toggleable__label {\n",
              "  cursor: pointer;\n",
              "  display: flex;\n",
              "  width: 100%;\n",
              "  margin-bottom: 0;\n",
              "  padding: 0.5em;\n",
              "  box-sizing: border-box;\n",
              "  text-align: center;\n",
              "  align-items: start;\n",
              "  justify-content: space-between;\n",
              "  gap: 0.5em;\n",
              "}\n",
              "\n",
              "#sk-container-id-38 label.sk-toggleable__label .caption {\n",
              "  font-size: 0.6rem;\n",
              "  font-weight: lighter;\n",
              "  color: var(--sklearn-color-text-muted);\n",
              "}\n",
              "\n",
              "#sk-container-id-38 label.sk-toggleable__label-arrow:before {\n",
              "  /* Arrow on the left of the label */\n",
              "  content: \"▸\";\n",
              "  float: left;\n",
              "  margin-right: 0.25em;\n",
              "  color: var(--sklearn-color-icon);\n",
              "}\n",
              "\n",
              "#sk-container-id-38 label.sk-toggleable__label-arrow:hover:before {\n",
              "  color: var(--sklearn-color-text);\n",
              "}\n",
              "\n",
              "/* Toggleable content - dropdown */\n",
              "\n",
              "#sk-container-id-38 div.sk-toggleable__content {\n",
              "  max-height: 0;\n",
              "  max-width: 0;\n",
              "  overflow: hidden;\n",
              "  text-align: left;\n",
              "  /* unfitted */\n",
              "  background-color: var(--sklearn-color-unfitted-level-0);\n",
              "}\n",
              "\n",
              "#sk-container-id-38 div.sk-toggleable__content.fitted {\n",
              "  /* fitted */\n",
              "  background-color: var(--sklearn-color-fitted-level-0);\n",
              "}\n",
              "\n",
              "#sk-container-id-38 div.sk-toggleable__content pre {\n",
              "  margin: 0.2em;\n",
              "  border-radius: 0.25em;\n",
              "  color: var(--sklearn-color-text);\n",
              "  /* unfitted */\n",
              "  background-color: var(--sklearn-color-unfitted-level-0);\n",
              "}\n",
              "\n",
              "#sk-container-id-38 div.sk-toggleable__content.fitted pre {\n",
              "  /* unfitted */\n",
              "  background-color: var(--sklearn-color-fitted-level-0);\n",
              "}\n",
              "\n",
              "#sk-container-id-38 input.sk-toggleable__control:checked~div.sk-toggleable__content {\n",
              "  /* Expand drop-down */\n",
              "  max-height: 200px;\n",
              "  max-width: 100%;\n",
              "  overflow: auto;\n",
              "}\n",
              "\n",
              "#sk-container-id-38 input.sk-toggleable__control:checked~label.sk-toggleable__label-arrow:before {\n",
              "  content: \"▾\";\n",
              "}\n",
              "\n",
              "/* Pipeline/ColumnTransformer-specific style */\n",
              "\n",
              "#sk-container-id-38 div.sk-label input.sk-toggleable__control:checked~label.sk-toggleable__label {\n",
              "  color: var(--sklearn-color-text);\n",
              "  background-color: var(--sklearn-color-unfitted-level-2);\n",
              "}\n",
              "\n",
              "#sk-container-id-38 div.sk-label.fitted input.sk-toggleable__control:checked~label.sk-toggleable__label {\n",
              "  background-color: var(--sklearn-color-fitted-level-2);\n",
              "}\n",
              "\n",
              "/* Estimator-specific style */\n",
              "\n",
              "/* Colorize estimator box */\n",
              "#sk-container-id-38 div.sk-estimator input.sk-toggleable__control:checked~label.sk-toggleable__label {\n",
              "  /* unfitted */\n",
              "  background-color: var(--sklearn-color-unfitted-level-2);\n",
              "}\n",
              "\n",
              "#sk-container-id-38 div.sk-estimator.fitted input.sk-toggleable__control:checked~label.sk-toggleable__label {\n",
              "  /* fitted */\n",
              "  background-color: var(--sklearn-color-fitted-level-2);\n",
              "}\n",
              "\n",
              "#sk-container-id-38 div.sk-label label.sk-toggleable__label,\n",
              "#sk-container-id-38 div.sk-label label {\n",
              "  /* The background is the default theme color */\n",
              "  color: var(--sklearn-color-text-on-default-background);\n",
              "}\n",
              "\n",
              "/* On hover, darken the color of the background */\n",
              "#sk-container-id-38 div.sk-label:hover label.sk-toggleable__label {\n",
              "  color: var(--sklearn-color-text);\n",
              "  background-color: var(--sklearn-color-unfitted-level-2);\n",
              "}\n",
              "\n",
              "/* Label box, darken color on hover, fitted */\n",
              "#sk-container-id-38 div.sk-label.fitted:hover label.sk-toggleable__label.fitted {\n",
              "  color: var(--sklearn-color-text);\n",
              "  background-color: var(--sklearn-color-fitted-level-2);\n",
              "}\n",
              "\n",
              "/* Estimator label */\n",
              "\n",
              "#sk-container-id-38 div.sk-label label {\n",
              "  font-family: monospace;\n",
              "  font-weight: bold;\n",
              "  display: inline-block;\n",
              "  line-height: 1.2em;\n",
              "}\n",
              "\n",
              "#sk-container-id-38 div.sk-label-container {\n",
              "  text-align: center;\n",
              "}\n",
              "\n",
              "/* Estimator-specific */\n",
              "#sk-container-id-38 div.sk-estimator {\n",
              "  font-family: monospace;\n",
              "  border: 1px dotted var(--sklearn-color-border-box);\n",
              "  border-radius: 0.25em;\n",
              "  box-sizing: border-box;\n",
              "  margin-bottom: 0.5em;\n",
              "  /* unfitted */\n",
              "  background-color: var(--sklearn-color-unfitted-level-0);\n",
              "}\n",
              "\n",
              "#sk-container-id-38 div.sk-estimator.fitted {\n",
              "  /* fitted */\n",
              "  background-color: var(--sklearn-color-fitted-level-0);\n",
              "}\n",
              "\n",
              "/* on hover */\n",
              "#sk-container-id-38 div.sk-estimator:hover {\n",
              "  /* unfitted */\n",
              "  background-color: var(--sklearn-color-unfitted-level-2);\n",
              "}\n",
              "\n",
              "#sk-container-id-38 div.sk-estimator.fitted:hover {\n",
              "  /* fitted */\n",
              "  background-color: var(--sklearn-color-fitted-level-2);\n",
              "}\n",
              "\n",
              "/* Specification for estimator info (e.g. \"i\" and \"?\") */\n",
              "\n",
              "/* Common style for \"i\" and \"?\" */\n",
              "\n",
              ".sk-estimator-doc-link,\n",
              "a:link.sk-estimator-doc-link,\n",
              "a:visited.sk-estimator-doc-link {\n",
              "  float: right;\n",
              "  font-size: smaller;\n",
              "  line-height: 1em;\n",
              "  font-family: monospace;\n",
              "  background-color: var(--sklearn-color-background);\n",
              "  border-radius: 1em;\n",
              "  height: 1em;\n",
              "  width: 1em;\n",
              "  text-decoration: none !important;\n",
              "  margin-left: 0.5em;\n",
              "  text-align: center;\n",
              "  /* unfitted */\n",
              "  border: var(--sklearn-color-unfitted-level-1) 1pt solid;\n",
              "  color: var(--sklearn-color-unfitted-level-1);\n",
              "}\n",
              "\n",
              ".sk-estimator-doc-link.fitted,\n",
              "a:link.sk-estimator-doc-link.fitted,\n",
              "a:visited.sk-estimator-doc-link.fitted {\n",
              "  /* fitted */\n",
              "  border: var(--sklearn-color-fitted-level-1) 1pt solid;\n",
              "  color: var(--sklearn-color-fitted-level-1);\n",
              "}\n",
              "\n",
              "/* On hover */\n",
              "div.sk-estimator:hover .sk-estimator-doc-link:hover,\n",
              ".sk-estimator-doc-link:hover,\n",
              "div.sk-label-container:hover .sk-estimator-doc-link:hover,\n",
              ".sk-estimator-doc-link:hover {\n",
              "  /* unfitted */\n",
              "  background-color: var(--sklearn-color-unfitted-level-3);\n",
              "  color: var(--sklearn-color-background);\n",
              "  text-decoration: none;\n",
              "}\n",
              "\n",
              "div.sk-estimator.fitted:hover .sk-estimator-doc-link.fitted:hover,\n",
              ".sk-estimator-doc-link.fitted:hover,\n",
              "div.sk-label-container:hover .sk-estimator-doc-link.fitted:hover,\n",
              ".sk-estimator-doc-link.fitted:hover {\n",
              "  /* fitted */\n",
              "  background-color: var(--sklearn-color-fitted-level-3);\n",
              "  color: var(--sklearn-color-background);\n",
              "  text-decoration: none;\n",
              "}\n",
              "\n",
              "/* Span, style for the box shown on hovering the info icon */\n",
              ".sk-estimator-doc-link span {\n",
              "  display: none;\n",
              "  z-index: 9999;\n",
              "  position: relative;\n",
              "  font-weight: normal;\n",
              "  right: .2ex;\n",
              "  padding: .5ex;\n",
              "  margin: .5ex;\n",
              "  width: min-content;\n",
              "  min-width: 20ex;\n",
              "  max-width: 50ex;\n",
              "  color: var(--sklearn-color-text);\n",
              "  box-shadow: 2pt 2pt 4pt #999;\n",
              "  /* unfitted */\n",
              "  background: var(--sklearn-color-unfitted-level-0);\n",
              "  border: .5pt solid var(--sklearn-color-unfitted-level-3);\n",
              "}\n",
              "\n",
              ".sk-estimator-doc-link.fitted span {\n",
              "  /* fitted */\n",
              "  background: var(--sklearn-color-fitted-level-0);\n",
              "  border: var(--sklearn-color-fitted-level-3);\n",
              "}\n",
              "\n",
              ".sk-estimator-doc-link:hover span {\n",
              "  display: block;\n",
              "}\n",
              "\n",
              "/* \"?\"-specific style due to the `<a>` HTML tag */\n",
              "\n",
              "#sk-container-id-38 a.estimator_doc_link {\n",
              "  float: right;\n",
              "  font-size: 1rem;\n",
              "  line-height: 1em;\n",
              "  font-family: monospace;\n",
              "  background-color: var(--sklearn-color-background);\n",
              "  border-radius: 1rem;\n",
              "  height: 1rem;\n",
              "  width: 1rem;\n",
              "  text-decoration: none;\n",
              "  /* unfitted */\n",
              "  color: var(--sklearn-color-unfitted-level-1);\n",
              "  border: var(--sklearn-color-unfitted-level-1) 1pt solid;\n",
              "}\n",
              "\n",
              "#sk-container-id-38 a.estimator_doc_link.fitted {\n",
              "  /* fitted */\n",
              "  border: var(--sklearn-color-fitted-level-1) 1pt solid;\n",
              "  color: var(--sklearn-color-fitted-level-1);\n",
              "}\n",
              "\n",
              "/* On hover */\n",
              "#sk-container-id-38 a.estimator_doc_link:hover {\n",
              "  /* unfitted */\n",
              "  background-color: var(--sklearn-color-unfitted-level-3);\n",
              "  color: var(--sklearn-color-background);\n",
              "  text-decoration: none;\n",
              "}\n",
              "\n",
              "#sk-container-id-38 a.estimator_doc_link.fitted:hover {\n",
              "  /* fitted */\n",
              "  background-color: var(--sklearn-color-fitted-level-3);\n",
              "}\n",
              "</style><div id=\"sk-container-id-38\" class=\"sk-top-container\"><div class=\"sk-text-repr-fallback\"><pre>SGDRegressor(eta0=1e-09, learning_rate=&#x27;constant&#x27;, max_iter=200, penalty=None,\n",
              "             random_state=1, verbose=1)</pre><b>In a Jupyter environment, please rerun this cell to show the HTML representation or trust the notebook. <br />On GitHub, the HTML representation is unable to render, please try loading this page with nbviewer.org.</b></div><div class=\"sk-container\" hidden><div class=\"sk-item\"><div class=\"sk-estimator fitted sk-toggleable\"><input class=\"sk-toggleable__control sk-hidden--visually\" id=\"sk-estimator-id-38\" type=\"checkbox\" checked><label for=\"sk-estimator-id-38\" class=\"sk-toggleable__label fitted sk-toggleable__label-arrow\"><div><div>SGDRegressor</div></div><div><a class=\"sk-estimator-doc-link fitted\" rel=\"noreferrer\" target=\"_blank\" href=\"https://scikit-learn.org/1.6/modules/generated/sklearn.linear_model.SGDRegressor.html\">?<span>Documentation for SGDRegressor</span></a><span class=\"sk-estimator-doc-link fitted\">i<span>Fitted</span></span></div></label><div class=\"sk-toggleable__content fitted\"><pre>SGDRegressor(eta0=1e-09, learning_rate=&#x27;constant&#x27;, max_iter=200, penalty=None,\n",
              "             random_state=1, verbose=1)</pre></div> </div></div></div></div>"
            ]
          },
          "metadata": {},
          "execution_count": 279
        }
      ],
      "source": [
        "# Write your code here\n",
        "sgd.fit(X_kansas, y_kansas)"
      ]
    },
    {
      "cell_type": "markdown",
      "metadata": {
        "id": "jkAvvizWpc1S"
      },
      "source": [
        "Get the predicted `y` values given the Kansas City dataset and using the `SGDRegressor` after convergence and assign the return value to variable `y_predicted`."
      ]
    },
    {
      "cell_type": "code",
      "execution_count": 280,
      "metadata": {
        "id": "-l73L0X4pc1S"
      },
      "outputs": [],
      "source": [
        "# Write your code here\n",
        "y_predicted = sgd.predict(X_kansas)"
      ]
    },
    {
      "cell_type": "markdown",
      "metadata": {
        "id": "f36Qvw14pc1S"
      },
      "source": [
        "Display the regression line after training."
      ]
    },
    {
      "cell_type": "code",
      "execution_count": 281,
      "metadata": {
        "id": "s3PeOP5-pc1S",
        "colab": {
          "base_uri": "https://localhost:8080/",
          "height": 542
        },
        "outputId": "979a9224-e7fc-469a-cb65-f0df886ab581"
      },
      "outputs": [
        {
          "output_type": "display_data",
          "data": {
            "text/plain": [
              "<Figure size 600x600 with 1 Axes>"
            ],
            "image/png": "[encoded data removed]"
          },
          "metadata": {}
        }
      ],
      "source": [
        "# Write your code here\n",
        "fig, ax4 = plt.subplots()\n",
        "ax4.plot(X_kansas, y_kansas, 'ro', label='Original data')\n",
        "\n",
        "line4, = ax3.plot(X_kansas, y_predicted, label='Regression line')\n",
        "\n",
        "plt.ylabel('Price')\n",
        "plt.xlabel('Living area')\n",
        "ax4.legend()\n",
        "plt.grid()\n",
        "plt.show()"
      ]
    },
    {
      "cell_type": "markdown",
      "metadata": {
        "id": "Xm0mubuKpc1T"
      },
      "source": [
        "<span style=\"color:red;\">**Question 1-14:** Describe the regression line with respect to the original data after training.</span>"
      ]
    },
    {
      "cell_type": "markdown",
      "source": [
        "It still seems to be under the datapoints"
      ],
      "metadata": {
        "id": "91EXNWIf1zTc"
      }
    },
    {
      "cell_type": "markdown",
      "metadata": {
        "id": "J9OREkT9pc1T"
      },
      "source": [
        "Let's display the graph of regression lines on the Kansas City dataset using analytical method, polyfit method, and gradient descent."
      ]
    },
    {
      "cell_type": "code",
      "execution_count": 282,
      "metadata": {
        "id": "cHtBySV4pc1T",
        "colab": {
          "base_uri": "https://localhost:8080/",
          "height": 333
        },
        "outputId": "927243ea-e234-44e3-eb49-68ce534c764b"
      },
      "outputs": [
        {
          "output_type": "display_data",
          "data": {
            "text/plain": [
              "<Figure size 2800x800 with 3 Axes>"
            ],
            "image/png": "[encoded data removed]"
          },
          "metadata": {}
        }
      ],
      "source": [
        "fig, (ax1, ax2, ax3) = plt.subplots(ncols=3, nrows=1, figsize=(28, 8))\n",
        "\n",
        "ax1.plot(X_kansas, y_kansas, 'ro', label='Original data')\n",
        "ax1.plot(line1.get_xdata(), line1.get_ydata(), label='Regression line')\n",
        "ax1.set_title('Using Analytical Method')\n",
        "ax1.set_xlabel('Living area')\n",
        "ax1.set_ylabel('Price')\n",
        "ax1.legend()\n",
        "ax1.grid()\n",
        "\n",
        "ax2.plot(X_kansas, y_kansas, 'ro', label='Original data')\n",
        "ax2.plot(line2.get_xdata(), line2.get_ydata(), label='Regression line')\n",
        "ax2.set_title('Using np.polyfit()')\n",
        "ax2.set_xlabel('Living area')\n",
        "ax2.set_ylabel('Price')\n",
        "ax2.legend()\n",
        "ax2.grid()\n",
        "\n",
        "ax3.plot(X_kansas, y_kansas, 'ro', label='Original data')\n",
        "ax3.plot(line3.get_xdata(), line3.get_ydata(), label='Regression line')\n",
        "ax3.set_title('Using Gradient Descent')\n",
        "ax3.set_xlabel('Living area')\n",
        "ax3.set_ylabel('Price')\n",
        "ax3.legend()\n",
        "ax3.grid()"
      ]
    },
    {
      "cell_type": "markdown",
      "metadata": {
        "id": "I0PlUBGapc1T"
      },
      "source": [
        "<span style=\"color:green;\">**Question**: Compare and describe the graphs of the analytical method, polyfit method, and gradient descent method. Are there differences in some of the graphs?</span>"
      ]
    },
    {
      "cell_type": "markdown",
      "metadata": {
        "id": "iny8pKFApc1T"
      },
      "source": [
        "Predict the price given a living area using the `predict()` function of the `AnalyticalMethod` class, the `PolyFitMethod` class, and the `SGDRegressor` class."
      ]
    },
    {
      "cell_type": "code",
      "execution_count": 283,
      "metadata": {
        "id": "vwD3U435pc1T",
        "colab": {
          "base_uri": "https://localhost:8080/"
        },
        "outputId": "24678189-7668-419f-b23a-67f3a7a6fb48"
      },
      "outputs": [
        {
          "output_type": "stream",
          "name": "stdout",
          "text": [
            "Using Analytical method:\t [207961.59]\n",
            "Using PolyFit method:\t\t [207961.59]\n",
            "Using Gradient Descent:\t\t [202324.7]\n"
          ]
        }
      ],
      "source": [
        "new_x = np.array([3105])\n",
        "\n",
        "y_pred_analytical = analytical_method.predict(new_x)\n",
        "y_pred_polyfit = polyfit_method.predict(new_x)\n",
        "y_pred_gd = sgd.predict(np.expand_dims(new_x, 1))\n",
        "\n",
        "print('Using Analytical method:\\t', np.around(y_pred_analytical.flatten(), 2))\n",
        "print('Using PolyFit method:\\t\\t', np.around(y_pred_polyfit, 2))\n",
        "print('Using Gradient Descent:\\t\\t', np.around(y_pred_gd, 2))"
      ]
    },
    {
      "cell_type": "markdown",
      "metadata": {
        "id": "-Fn9zCDApc1T"
      },
      "source": [
        "<span style=\"color:red;\">**Question 1-15**: Why did we get a different predicted price using the gradient descent method?</span>"
      ]
    },
    {
      "cell_type": "markdown",
      "source": [
        "Because the model was not trained properly / Because Analytical & polyfit don't optimize the regression model so it leads to a different result"
      ],
      "metadata": {
        "id": "EtrfjKvo2ADE"
      }
    },
    {
      "cell_type": "markdown",
      "metadata": {
        "id": "zGkZ_j18pc1T"
      },
      "source": [
        "### Conclusion\n",
        "We successfully implemented a linear regression model on a house pricing dataset. We implemented two ways to train our model: via analytical solution and via mini-batch gradient descent.\n",
        "\n",
        "We also tweaked our learning rate, and you can also continuously change the iteration count as long as you bring it back to the requested answer.\n",
        "\n",
        "Also, remember that we are only using the analytical solution for small datasets. Do not use it on big datasets or it will take too long for your computer to process."
      ]
    },
    {
      "cell_type": "markdown",
      "metadata": {
        "id": "eJ5Zq7wOpc1T"
      },
      "source": [
        "## <center>fin</center>"
      ]
    },
    {
      "cell_type": "markdown",
      "metadata": {
        "id": "YTFu81CXpc1T"
      },
      "source": [
        "<!-- DO NOT MODIFY OR DELETE THIS -->\n",
        "<sup>made/compiled by daniel stanley tan & courtney anne ngo 🐰 & thomas james tiam-lee</sup> <br>\n",
        "<sup>for comments, corrections, suggestions, please email:</sup><sup> danieltan07@gmail.com & courtneyngo@gmail.com & thomasjamestiamlee@gmail.com</sup><br>\n",
        "<sup>please cc your instructor, too</sup>\n",
        "<!-- DO NOT MODIFY OR DELETE THIS -->"
      ]
    }
  ],
  "metadata": {
    "kernelspec": {
      "display_name": "Python 3 (ipykernel)",
      "language": "python",
      "name": "python3"
    },
    "language_info": {
      "codemirror_mode": {
        "name": "ipython",
        "version": 3
      },
      "file_extension": ".py",
      "mimetype": "text/x-python",
      "name": "python",
      "nbconvert_exporter": "python",
      "pygments_lexer": "ipython3",
      "version": "3.10.6"
    },
    "colab": {
      "provenance": []
    }
  },
  "nbformat": 4,
  "nbformat_minor": 0
}